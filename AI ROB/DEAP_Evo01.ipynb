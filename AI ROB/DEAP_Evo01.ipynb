{
 "cells": [
  {
   "cell_type": "markdown",
   "id": "a17cf5aa",
   "metadata": {},
   "source": [
    "# Introduction to DEAP: An Evolutionary Algorithms Library\n",
    "\n",
    "[DEAP (Distributed Evolutionary Algorithms in Python)](https://github.com/deap) is a library for implementing and experimenting with evolutionary algorithms in Python. It provides a wide range of tools and operators to facilitate the design and optimization of genetic algorithms, genetic programming, and other evolutionary algorithms. In this tutorial, we will cover the basic concepts and features of DEAP, along with a practical example of solving a simple optimization problem using genetic algorithms."
   ]
  },
  {
   "cell_type": "markdown",
   "id": "f338e292",
   "metadata": {},
   "source": [
    "# Installation\n",
    "Before we get started, let's make sure you have DEAP installed. If you don't have it installed, you can install it using pip:"
   ]
  },
  {
   "cell_type": "code",
   "execution_count": 1,
   "id": "4622f276",
   "metadata": {},
   "outputs": [
    {
     "name": "stdout",
     "output_type": "stream",
     "text": [
      "Collecting deap\n",
      "  Downloading deap-1.4.1-cp310-cp310-win_amd64.whl (109 kB)\n",
      "     ------------------------------------ 109.3/109.3 kB 134.9 kB/s eta 0:00:00\n",
      "Requirement already satisfied: numpy in c:\\users\\hp\\anaconda3\\lib\\site-packages (from deap) (1.23.5)\n",
      "Installing collected packages: deap\n",
      "Successfully installed deap-1.4.1\n"
     ]
    }
   ],
   "source": [
    "!pip install deap"
   ]
  },
  {
   "cell_type": "markdown",
   "id": "1fbaf42b",
   "metadata": {},
   "source": [
    "# Importing Useful Modules\n",
    "First, let's import the necessary modules from the DEAP library:"
   ]
  },
  {
   "cell_type": "code",
   "execution_count": 2,
   "id": "c6280f36",
   "metadata": {},
   "outputs": [],
   "source": [
    "import random\n",
    "from deap import base, creator, tools"
   ]
  },
  {
   "cell_type": "markdown",
   "id": "32710383",
   "metadata": {},
   "source": [
    "The required modules *random*, *base*, *creator*, and *tools* are necessary to utilize various functionalities and components of the DEAP library.\n",
    "\n",
    "* random: The random module is a built-in Python module that provides functions for generating random numbers. DEAP uses this module to initialize the individuals with random values and to introduce randomness in genetic operators like mutation.\n",
    "\n",
    "* base: The base module in DEAP provides the fundamental base classes and structures that are essential for implementing evolutionary algorithms. It includes classes like Fitness, Individual, and Toolbox that are used to define the fitness evaluation, individual representation, and the toolbox containing the operators and functions.\n",
    "\n",
    "* creator: The creator module in DEAP is used to create new classes for the fitness and individual. It provides a convenient way to define the attributes and behaviors of these classes. In the tutorial, we use the creator module to create the FitnessMin class (to represent a minimization fitness) and the Individual class (to represent an individual in the population).\n",
    "\n",
    "* tools: The tools module in DEAP provides a set of utility functions and operators commonly used in evolutionary algorithms. It includes functions for initializing populations, selecting individuals, applying genetic operators like crossover and mutation, and more. In the tutorial, we register functions like initRepeat, selTournament, cxTwoPoint, and mutGaussian from the tools module to define the initialization, selection, crossover, and mutation operations."
   ]
  },
  {
   "cell_type": "markdown",
   "id": "0ad7b8f1",
   "metadata": {},
   "source": [
    "# Defining the Problem\n",
    "To demonstrate the capabilities of DEAP, let's consider a simple optimization problem: finding the minimum value of a function. We will use the function f(x) = x^2 as our objective function. Our goal is to find the value of x that minimizes this function.\n",
    "\n",
    "To define this problem in DEAP, we need to define a fitness function and a corresponding individual representation."
   ]
  },
  {
   "cell_type": "code",
   "execution_count": 12,
   "id": "8eb4ae00",
   "metadata": {},
   "outputs": [
    {
     "name": "stderr",
     "output_type": "stream",
     "text": [
      "c:\\Users\\hp\\anaconda3\\lib\\site-packages\\deap\\creator.py:185: RuntimeWarning: A class named 'FitnessMin' has already been created and it will be overwritten. Consider deleting previous creation of that class or rename it.\n",
      "  warnings.warn(\"A class named '{0}' has already been created and it \"\n",
      "c:\\Users\\hp\\anaconda3\\lib\\site-packages\\deap\\creator.py:185: RuntimeWarning: A class named 'Individual' has already been created and it will be overwritten. Consider deleting previous creation of that class or rename it.\n",
      "  warnings.warn(\"A class named '{0}' has already been created and it \"\n"
     ]
    }
   ],
   "source": [
    "# Define the fitness function\n",
    "def evaluate(individual):\n",
    "    x = individual[0]\n",
    "    return 10-x**2,\n",
    "\n",
    "# Create the fitness and individual classes\n",
    "creator.create(\"FitnessMin\", base.Fitness, weights=(1.0,))\n",
    "creator.create(\"Individual\", list, fitness=creator.FitnessMin)"
   ]
  },
  {
   "cell_type": "markdown",
   "id": "9facfb59",
   "metadata": {},
   "source": [
    "In the above code, we define the fitness function evaluate, which takes an individual (represented as a list) and returns its fitness value as a tuple. Since we want to minimize the function, we set the weights attribute of the FitnessMin class to -1.0.\n",
    "\n",
    "Next, we create the Individual class as a subclass of the built-in Python list class and associate it with the FitnessMin class."
   ]
  },
  {
   "cell_type": "markdown",
   "id": "91bdbcab",
   "metadata": {},
   "source": [
    "# Creating the Toolbox\n",
    "The toolbox in DEAP is a container for various tools and operators used in evolutionary algorithms. We can add functions and operators to the toolbox to define our evolutionary algorithm."
   ]
  },
  {
   "cell_type": "code",
   "execution_count": 16,
   "id": "a67964c2",
   "metadata": {},
   "outputs": [],
   "source": [
    "# Create the toolbox\n",
    "toolbox = base.Toolbox()\n",
    "\n",
    "# Register the necessary functions\n",
    "toolbox.register(\"attr_float\", random.uniform, -1, 1)\n",
    "toolbox.register(\"individual\", tools.initRepeat, creator.Individual, toolbox.attr_float, n=1)\n",
    "toolbox.register(\"population\", tools.initRepeat, list, toolbox.individual)\n",
    "\n",
    "# Register the evaluation function\n",
    "toolbox.register(\"evaluate\", evaluate)\n",
    "\n",
    "# Register the genetic operators\n",
    "toolbox.register(\"mate\", tools.cxTwoPoint)\n",
    "toolbox.register(\"mutate\", tools.mutGaussian, mu=0, sigma=1, indpb=0.1)\n",
    "toolbox.register(\"select\", tools.selTournament, tournsize=3)\n"
   ]
  },
  {
   "cell_type": "markdown",
   "id": "e8a9a6c4",
   "metadata": {},
   "source": [
    "In the code above, we create the toolbox object using the *base.Toolbox()* class.\n",
    "\n",
    "We then register the necessary functions and operators with the toolbox:\n",
    "\n",
    "* attr_float: A function that generates random floating-point values between -10 and 10. This will be used to initialize the individuals.\n",
    "* individual: A function that creates an individual using the creator.Individual class and initializes it with random values using attr_float.\n",
    "* population: A function that creates a population of individuals.\n",
    "* evaluate: The fitness evaluation function we defined earlier.\n",
    "* mate: The crossover operator, which performs a two-point crossover.\n",
    "* mutate: The mutation operator, which performs a Gaussian mutation with a mean of 0 and standard deviation of 1.\n",
    "* select: The selection operator, which performs tournament selection with a tournament size of 3."
   ]
  },
  {
   "cell_type": "markdown",
   "id": "ecf0828d",
   "metadata": {},
   "source": [
    "# Running the Evolutionary Algorithm\n",
    "Now that we have defined the problem, the individuals, and the genetic operators, let's run the evolutionary algorithm to solve the optimization problem."
   ]
  },
  {
   "cell_type": "code",
   "execution_count": 17,
   "id": "ffaf3d8f",
   "metadata": {},
   "outputs": [],
   "source": [
    "# Set the random seed for reproducibility\n",
    "random.seed(42)\n",
    "\n",
    "# Initialize the population\n",
    "population = toolbox.population(n=50)\n",
    "\n",
    "# Perform 10 generations of evolution\n",
    "for generation in range(10):\n",
    "    # Evaluate the fitness of each individual\n",
    "    fitness_values = toolbox.map(toolbox.evaluate, population)\n",
    "    for individual, fitness in zip(population, fitness_values):\n",
    "        individual.fitness.values = fitness\n",
    "\n",
    "    # Select the next generation\n",
    "    offspring = toolbox.select(population, len(population))\n",
    "\n",
    "    # Apply crossover and mutation operators\n",
    "    offspring = [toolbox.clone(ind) for ind in offspring]\n",
    "\n",
    "    if len(offspring) > 1 and len(offspring[0]) > 1:\n",
    "        for child1, child2 in zip(offspring[::2], offspring[1::2]):\n",
    "            if len(child1) > 1 and len(child2) > 1:\n",
    "                toolbox.mate(child1, child2)\n",
    "\n",
    "    for mutant in offspring:\n",
    "        toolbox.mutate(mutant)\n",
    "\n",
    "    # Replace the population with the offspring\n",
    "    population[:] = offspring"
   ]
  },
  {
   "cell_type": "code",
   "execution_count": null,
   "id": "c647920a",
   "metadata": {},
   "outputs": [],
   "source": []
  },
  {
   "cell_type": "markdown",
   "id": "d6a000fb",
   "metadata": {},
   "source": [
    "In the above code, we set the random seed for reproducibility. We then initialize a population of 50 individuals using the toolbox.population function.\n",
    "\n",
    "We run the evolutionary algorithm for 10 generations. In each generation, we evaluate the fitness of each individual, select the next generation, apply crossover and mutation operators, and replace the population with the offspring."
   ]
  },
  {
   "cell_type": "markdown",
   "id": "407ebe8f",
   "metadata": {},
   "source": [
    "# Retrieving the Best Individual\n",
    "Finally, let's retrieve the best individual from the final population after the evolution process is complete."
   ]
  },
  {
   "cell_type": "code",
   "execution_count": 18,
   "id": "39915c30",
   "metadata": {},
   "outputs": [
    {
     "name": "stdout",
     "output_type": "stream",
     "text": [
      "Best individual: [0.010710576206724776]\n",
      "Best fitness: 9.99988528355732\n"
     ]
    }
   ],
   "source": [
    "best_individual = tools.selBest(population, k=1)[0]\n",
    "best_fitness = best_individual.fitness.values[0]\n",
    "print(\"Best individual:\", best_individual)\n",
    "print(\"Best fitness:\", best_fitness)"
   ]
  },
  {
   "cell_type": "markdown",
   "id": "08b00275",
   "metadata": {},
   "source": [
    "In the above code, we use the tools.selBest function to select the best individual from the population. We set k=1 to select only one individual. We then retrieve the fitness value of the best individual using best_individual.fitness.values[0]."
   ]
  },
  {
   "cell_type": "markdown",
   "id": "0a71c87f",
   "metadata": {},
   "source": [
    "DEAP offers a wide range of additional tools, operators, and features for more complex problems and advanced evolutionary algorithms. You can refer to the DEAP documentation for more information and explore its capabilities further."
   ]
  },
  {
   "cell_type": "markdown",
   "id": "44d9c2af",
   "metadata": {},
   "source": [
    "For further material check the [extensive documentation](https://deap.readthedocs.io/en/master/) and the paper [DEAP: Evolutionary Algorithms Made Easy](https://www.jmlr.org/papers/volume13/fortin12a/fortin12a.pdf)"
   ]
  },
  {
   "cell_type": "code",
   "execution_count": null,
   "id": "b0eceb21",
   "metadata": {},
   "outputs": [],
   "source": []
  }
 ],
 "metadata": {
  "kernelspec": {
   "display_name": "Python 3 (ipykernel)",
   "language": "python",
   "name": "python3"
  },
  "language_info": {
   "codemirror_mode": {
    "name": "ipython",
    "version": 3
   },
   "file_extension": ".py",
   "mimetype": "text/x-python",
   "name": "python",
   "nbconvert_exporter": "python",
   "pygments_lexer": "ipython3",
   "version": "3.10.9"
  }
 },
 "nbformat": 4,
 "nbformat_minor": 5
}
