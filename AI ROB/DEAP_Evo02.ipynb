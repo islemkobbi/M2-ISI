{
 "cells": [
  {
   "cell_type": "markdown",
   "id": "d552c5d3",
   "metadata": {},
   "source": [
    "# Creating Custom Types\n",
    "One of the key features of DEAP is the ability to create custom types to represent individuals and their fitness. In this tutorial, we will explore how to create custom types using the DEAP library."
   ]
  },
  {
   "cell_type": "markdown",
   "id": "77d66beb",
   "metadata": {},
   "source": [
    "If you don't have it installed, you can install it using pip:"
   ]
  },
  {
   "cell_type": "code",
   "execution_count": 1,
   "id": "0c00d81a",
   "metadata": {},
   "outputs": [
    {
     "name": "stdout",
     "output_type": "stream",
     "text": [
      "Requirement already satisfied: deap in c:\\users\\hp\\anaconda3\\lib\\site-packages (1.4.1)\n",
      "Requirement already satisfied: numpy in c:\\users\\hp\\anaconda3\\lib\\site-packages (from deap) (1.23.5)\n"
     ]
    }
   ],
   "source": [
    "!pip install deap"
   ]
  },
  {
   "cell_type": "code",
   "execution_count": 3,
   "id": "ff29a2d8",
   "metadata": {},
   "outputs": [],
   "source": [
    "#importing the necessary modules from the DEAP library:\n",
    "import random\n",
    "from deap import base, creator, tools"
   ]
  },
  {
   "cell_type": "markdown",
   "id": "d4303055",
   "metadata": {},
   "source": [
    "## Fitness"
   ]
  },
  {
   "cell_type": "code",
   "execution_count": 4,
   "id": "e730349c",
   "metadata": {},
   "outputs": [],
   "source": [
    "# Create the fitness\n",
    "creator.create(\"FitnessMax\", base.Fitness, weights=(1.0,))"
   ]
  },
  {
   "cell_type": "code",
   "execution_count": 5,
   "id": "61e69c8b",
   "metadata": {},
   "outputs": [],
   "source": [
    "# Create the individual\n",
    "creator.create(\"Individual\", list, fitness=creator.FitnessMax)"
   ]
  },
  {
   "cell_type": "markdown",
   "id": "5cbd3423",
   "metadata": {},
   "source": [
    "To put it simply, the first individual created will be a simple list containing floats.\n",
    "We use the creator.create function to create two custom types:\n",
    "* FitnessMax: This type represents the fitness of individuals in a maximization problem. We inherit from the base.Fitness class and set the weights attribute to (1.0,) to indicate a single objective problem.\n",
    "* Individual: This type represents an individual in the population. We inherit from the built-in Python list class and associate it with the fitness attribute (e.g. FitnessMax).\n",
    "\n"
   ]
  },
  {
   "cell_type": "markdown",
   "id": "04aa03ca",
   "metadata": {},
   "source": [
    "We can also use the type *FitnessMin*"
   ]
  },
  {
   "cell_type": "code",
   "execution_count": 6,
   "id": "da2c34b1",
   "metadata": {},
   "outputs": [],
   "source": [
    "creator.create(\"FitnessMin\", base.Fitness, weights=(-1.0,))"
   ]
  },
  {
   "cell_type": "markdown",
   "id": "46d7f98a",
   "metadata": {},
   "source": [
    "In DEAP, FitnessMin and FitnessMax are used to represent the fitness values in optimization problems. The choice between FitnessMin and FitnessMax depends on the nature of your optimization problem.\n",
    "\n",
    "Here's when you should use FitnessMin:\n",
    "\n",
    "* Minimization Problems: If your problem is a minimization problem, where the goal is to find the minimum value of an objective function, you should use FitnessMin. In this case, the lower the fitness value, the better the individual's fitness.\n",
    "\n",
    "* Negative Weights: FitnessMin uses negative weights to indicate minimization. By default, the weights attribute of FitnessMin is set to (-1.0,). These negative weights ensure that the fitness values are minimized during the optimization process.\n",
    "\n",
    "Here's when you should use FitnessMax:\n",
    "\n",
    "* Maximization Problems: If your problem is a maximization problem, where the goal is to find the maximum value of an objective function, you should use FitnessMax. In this case, the higher the fitness value, the better the individual's fitness.\n",
    "\n",
    "* Positive Weights: FitnessMax uses positive weights to indicate maximization. By default, the weights attribute of FitnessMax is set to (1.0,). These positive weights ensure that the fitness values are maximized during the optimization process.\n",
    "\n",
    "It's important to note that the choice between FitnessMin and FitnessMax affects the way fitness values are evaluated and compared during the evolutionary process. It determines the direction of optimization and how selection, crossover, and mutation operators are applied.\n",
    "\n"
   ]
  },
  {
   "cell_type": "markdown",
   "id": "7d92861a",
   "metadata": {},
   "source": [
    "The weights attribute in the FitnessMin class determines the minimization or maximization nature of the fitness. It can be customized according to the problem requirements. The weights can also be used to vary the importance of each objective in multi-objective optimization."
   ]
  },
  {
   "cell_type": "code",
   "execution_count": 7,
   "id": "112b6156",
   "metadata": {},
   "outputs": [],
   "source": [
    "creator.create(\"FitnessMulti\", base.Fitness, weights=(-1.0, 1.0))"
   ]
  },
  {
   "cell_type": "markdown",
   "id": "dc7e58b9",
   "metadata": {},
   "source": [
    "For instance, if you have a multi-objective optimization problem where you want to minimize the cost (first objective) and maximize the performance (second objective), you can define FitnessMulti with weights=(-1.0, 1.0) to represent these objectives."
   ]
  },
  {
   "cell_type": "markdown",
   "id": "0abe1e5d",
   "metadata": {},
   "source": [
    "## Types of individual"
   ]
  },
  {
   "cell_type": "markdown",
   "id": "606b448c",
   "metadata": {},
   "source": [
    "### Permutation"
   ]
  },
  {
   "cell_type": "markdown",
   "id": "25183a8a",
   "metadata": {},
   "source": [
    "The individual for the permutation representation is similar to the general list individual. The only difference is that instead of filling the list with a series of floats, we generate a random permutation and provide that permutation to the individual."
   ]
  },
  {
   "cell_type": "code",
   "execution_count": 8,
   "id": "712886ab",
   "metadata": {},
   "outputs": [
    {
     "name": "stderr",
     "output_type": "stream",
     "text": [
      "c:\\Users\\hp\\anaconda3\\lib\\site-packages\\deap\\creator.py:185: RuntimeWarning: A class named 'FitnessMin' has already been created and it will be overwritten. Consider deleting previous creation of that class or rename it.\n",
      "  warnings.warn(\"A class named '{0}' has already been created and it \"\n",
      "c:\\Users\\hp\\anaconda3\\lib\\site-packages\\deap\\creator.py:185: RuntimeWarning: A class named 'Individual' has already been created and it will be overwritten. Consider deleting previous creation of that class or rename it.\n",
      "  warnings.warn(\"A class named '{0}' has already been created and it \"\n"
     ]
    }
   ],
   "source": [
    "creator.create(\"FitnessMin\", base.Fitness, weights=(-1.0,))\n",
    "creator.create(\"Individual\", list, fitness=creator.FitnessMin)\n",
    "\n",
    "IND_SIZE = 10\n",
    "\n",
    "toolbox = base.Toolbox()\n",
    "toolbox.register(\"indices\", random.sample, range(IND_SIZE), IND_SIZE)\n",
    "toolbox.register(\"individual\", tools.initIterate, creator.Individual,\n",
    "                 toolbox.indices)"
   ]
  },
  {
   "cell_type": "markdown",
   "id": "fc75e057",
   "metadata": {},
   "source": [
    "In the above code, we create the FitnessMin class for minimizing fitness, and the Individual class as a list type with FitnessMin as its fitness attribute. We register the attribute function indices that generates a random permutation of indices from 0 to 9. Finally, we register the individual function that initializes an individual with the generated permutation.\n",
    "\n",
    "By generating a random permutation for the individual, we ensure that each index appears exactly once in the individual, representing a valid permutation.\n",
    "\n",
    "This representation is commonly used in problems where the order or arrangement of elements is important, such as the traveling salesman problem or job scheduling."
   ]
  },
  {
   "cell_type": "markdown",
   "id": "c9526f8f",
   "metadata": {},
   "source": [
    "### Arithmetic Expression"
   ]
  },
  {
   "cell_type": "markdown",
   "id": "4e4bcabe",
   "metadata": {},
   "source": [
    "The next example demonstrates creating an individual for the arithmetic expression representation:"
   ]
  },
  {
   "cell_type": "code",
   "execution_count": 10,
   "id": "aeb86776",
   "metadata": {},
   "outputs": [
    {
     "name": "stderr",
     "output_type": "stream",
     "text": [
      "c:\\Users\\hp\\anaconda3\\lib\\site-packages\\deap\\creator.py:185: RuntimeWarning: A class named 'FitnessMin' has already been created and it will be overwritten. Consider deleting previous creation of that class or rename it.\n",
      "  warnings.warn(\"A class named '{0}' has already been created and it \"\n",
      "c:\\Users\\hp\\anaconda3\\lib\\site-packages\\deap\\creator.py:185: RuntimeWarning: A class named 'Individual' has already been created and it will be overwritten. Consider deleting previous creation of that class or rename it.\n",
      "  warnings.warn(\"A class named '{0}' has already been created and it \"\n"
     ]
    }
   ],
   "source": [
    "import operator\n",
    "from deap import creator, gp\n",
    "\n",
    "pset = gp.PrimitiveSet(\"MAIN\", arity=1)\n",
    "pset.addPrimitive(operator.add, 2)\n",
    "pset.addPrimitive(operator.sub, 2)\n",
    "pset.addPrimitive(operator.mul, 2)\n",
    "\n",
    "creator.create(\"FitnessMin\", base.Fitness, weights=(-1.0,))\n",
    "creator.create(\"Individual\", gp.PrimitiveTree, fitness=creator.FitnessMin,\n",
    "               pset=pset)\n",
    "\n",
    "toolbox = base.Toolbox()\n",
    "toolbox.register(\"expr\", gp.genHalfAndHalf, pset=pset, min_=1, max_=2)\n",
    "toolbox.register(\"individual\", tools.initIterate, creator.Individual,\n",
    "                 toolbox.expr)"
   ]
  },
  {
   "cell_type": "markdown",
   "id": "ec7b6d12",
   "metadata": {},
   "source": [
    "In this example, we create the FitnessMin class for minimizing fitness, and the Individual class as a PrimitiveTree type with FitnessMin as its fitness attribute and the defined primitive set pset. We register the function expr that generates arithmetic expressions using the genHalfAndHalf method. Finally, we register the individual function that initializes an individual with the generated arithmetic expression."
   ]
  },
  {
   "cell_type": "markdown",
   "id": "d70ef34f",
   "metadata": {},
   "source": [
    "### Evolution Strategy"
   ]
  },
  {
   "cell_type": "markdown",
   "id": "d9fdfd6b",
   "metadata": {},
   "source": [
    "The next example demonstrates creating an individual for the evolution strategy representation:"
   ]
  },
  {
   "cell_type": "code",
   "execution_count": null,
   "id": "938d4f22",
   "metadata": {},
   "outputs": [],
   "source": [
    "import array\n",
    "\n",
    "creator.create(\"FitnessMin\", base.Fitness, weights=(-1.0,))\n",
    "creator.create(\"Individual\", array.array, typecode=\"d\",\n",
    "               fitness=creator.FitnessMin, strategy=None)\n",
    "creator.create(\"Strategy\", array.array, typecode=\"d\")\n",
    "\n",
    "def initES(icls, scls, size, imin, imax, smin, smax):\n",
    "    ind = icls(random.uniform(imin, imax) for _ in range(size))\n",
    "    ind.strategy = scls(random.uniform(smin, smax) for _ in range(size))\n",
    "    return ind\n",
    "\n",
    "IND_SIZE = 10\n",
    "MIN_VALUE, MAX_VALUE = -5.0, 5.0\n",
    "MIN_STRAT, MAX_STRAT = -1.0, 1.0\n",
    "\n",
    "toolbox = base.Toolbox()\n",
    "toolbox.register(\"individual\", initES, creator.Individual,\n",
    "                 creator.Strategy, IND_SIZE, MIN_VALUE, MAX_VALUE, MIN_STRAT,\n",
    "                 MAX_STRAT)\n"
   ]
  },
  {
   "cell_type": "markdown",
   "id": "6948a33f",
   "metadata": {},
   "source": [
    "In this example, we create the FitnessMin class for minimizing fitness, the Individual class as an array.array type with FitnessMin as its fitness attribute, and the Strategy class as an array.array type. We define the initES function that initializes an individual for the evolution strategy representation. Finally, we register the individual function that initializes an individual using the initES function."
   ]
  },
  {
   "cell_type": "markdown",
   "id": "10a7145b",
   "metadata": {},
   "source": [
    "### Particle\n",
    "A particle is another special type of individual commonly used in particle swarm optimization. It usually has a speed attribute and remembers its best position. We can create a particle individual by inheriting from the list type. Additionally, we add the speed, best, smin, and smax attributes to the particle class."
   ]
  },
  {
   "cell_type": "code",
   "execution_count": null,
   "id": "232c45bd",
   "metadata": {},
   "outputs": [],
   "source": [
    "import random\n",
    "\n",
    "from deap import base, creator, tools\n",
    "\n",
    "creator.create(\"FitnessMax\", base.Fitness, weights=(1.0, 1.0))\n",
    "creator.create(\"Particle\", list, fitness=creator.FitnessMax, speed=None,\n",
    "               smin=None, smax=None, best=None)\n",
    "\n",
    "def initParticle(pcls, size, pmin, pmax, smin, smax):\n",
    "    part = pcls(random.uniform(pmin, pmax) for _ in range(size))\n",
    "    part.speed = [random.uniform(smin, smax) for _ in range(size)]\n",
    "    part.smin = smin\n",
    "    part.smax = smax\n",
    "    return part\n",
    "\n",
    "toolbox = base.Toolbox()\n",
    "toolbox.register(\"particle\", initParticle, creator.Particle, size=2,\n",
    "                 pmin=-6, pmax=6, smin=-3, smax=3)\n"
   ]
  },
  {
   "cell_type": "markdown",
   "id": "8ee593fc",
   "metadata": {},
   "source": [
    "In this example, we create the FitnessMax class for maximizing fitness, and the Particle class as a list type with FitnessMax as its fitness attribute. We also add the speed, best, smin, and smax attributes to the Particle class. We then define the initParticle() function, which initializes a particle by generating random values within the given ranges for position (pmin to pmax) and speed (smin to smax). This function returns a complete particle individual.\n",
    "\n",
    "Now, calling toolbox.particle() will create a complete particle individual with a random position and speed, along with a fitness attribute for maximizing two objectives."
   ]
  },
  {
   "cell_type": "markdown",
   "id": "fc8825e2",
   "metadata": {},
   "source": [
    "### A Funky One\n",
    "If your problem has specific requirements, it's possible to create custom individuals easily. In this example, we create an individual that consists of a list of alternating integers and floating-point numbers using the initCycle() function."
   ]
  },
  {
   "cell_type": "code",
   "execution_count": null,
   "id": "6192d747",
   "metadata": {},
   "outputs": [],
   "source": [
    "import random\n",
    "\n",
    "from deap import base, creator, tools\n",
    "\n",
    "creator.create(\"FitnessMax\", base.Fitness, weights=(1.0, 1.0))\n",
    "creator.create(\"Individual\", list, fitness=creator.FitnessMax)\n",
    "\n",
    "toolbox = base.Toolbox()\n",
    "\n",
    "INT_MIN, INT_MAX = 5, 10\n",
    "FLT_MIN, FLT_MAX = -0.2, 0.8\n",
    "N_CYCLES = 4\n",
    "\n",
    "toolbox.register(\"attr_int\", random.randint, INT_MIN, INT_MAX)\n",
    "toolbox.register(\"attr_flt\", random.uniform, FLT_MIN, FLT_MAX)\n",
    "toolbox.register(\"individual\", tools.initCycle, creator.Individual,\n",
    "                 (toolbox.attr_int, toolbox.attr_flt), n=N_CYCLES)\n"
   ]
  },
  {
   "cell_type": "markdown",
   "id": "f80f9d76",
   "metadata": {},
   "source": [
    "In this example, we create the FitnessMax class for maximizing fitness, and the Individual class as a list type with FitnessMax as its fitness attribute. We then register two attribute functions, attr_int and attr_flt, which generate random integers and floating-point numbers within the specified ranges. Finally, we register the individual function using tools.initCycle(), which creates an individual by cycling through the provided attribute functions (toolbox.attr_int, toolbox.attr_flt) a specified number of times (n=N_CYCLES).\n",
    "\n",
    "Now, calling toolbox.individual() will return a complete individual of the form [int, float, int, float, ..., int, float], with a fitness attribute for maximizing two objectives."
   ]
  },
  {
   "cell_type": "markdown",
   "id": "1c542e7e",
   "metadata": {},
   "source": [
    "## Population\n",
    "Populations are collections of individuals, strategies, or particles. DEAP provides various population types, such as bag, grid, swarm, and demes."
   ]
  },
  {
   "cell_type": "markdown",
   "id": "554cd8e3",
   "metadata": {},
   "source": [
    "### Bag\n",
    "A bag population is the most commonly used type. It has no particular ordering, although it is generally implemented using a list. Since the bag population has no specific attributes, it does not require any special class. We can initialize a bag population directly using the tools.initRepeat() function from the toolbox."
   ]
  },
  {
   "cell_type": "code",
   "execution_count": null,
   "id": "27d4223d",
   "metadata": {},
   "outputs": [],
   "source": [
    "toolbox.register(\"population\", tools.initRepeat, list, toolbox.individual)"
   ]
  },
  {
   "cell_type": "markdown",
   "id": "f79123cb",
   "metadata": {},
   "source": [
    "In this example, we register the population function, which initializes a population using tools.initRepeat() with the list type as the container and toolbox.individual as the initializer. Calling toolbox.population() will return a complete population in the form of a list. You can specify the number of individuals by providing the n argument to the population function. For example, toolbox.population(n=100) will create a population with 100 individuals.\n",
    "\n"
   ]
  },
  {
   "cell_type": "markdown",
   "id": "33d40df2",
   "metadata": {},
   "source": [
    "### Grid\n",
    "A grid population is a special case of a structured population where neighboring individuals have a direct effect on each other. Individuals are distributed in a grid-like structure, where each cell contains a single individual. The grid population is composed of lists of individuals."
   ]
  },
  {
   "cell_type": "code",
   "execution_count": null,
   "id": "e1cef481",
   "metadata": {},
   "outputs": [],
   "source": [
    "N_COL = 10\n",
    "N_ROW = 5\n",
    "toolbox.register(\"row\", tools.initRepeat, list, toolbox.individual, n=N_COL)\n",
    "toolbox.register(\"population\", tools.initRepeat, list, toolbox.row, n=N_ROW)"
   ]
  },
  {
   "cell_type": "markdown",
   "id": "62b00795",
   "metadata": {},
   "source": [
    "In this example, we register the row function, which initializes a row of individuals using tools.initRepeat() with the list type as the container and toolbox.individual as the initializer. We specify the number of individuals per row using the n argument. Then, we register the population function, which initializes a population by repeating the row function N_ROW times.\n",
    "\n",
    "Calling toolbox.population() will return a complete population where individuals are accessible using two indices, for example, pop[r][c]"
   ]
  },
  {
   "cell_type": "markdown",
   "id": "7fc1abc3",
   "metadata": {},
   "source": [
    "### Swarm\n",
    "A swarm is used in particle swarm optimization. It is different from other populations because it contains a communication network among particles. The simplest network is the completely connected one, where each particle knows the best position visited by any particle. This is typically implemented by copying the global best position to a gbest attribute and the global best fitness to a gbestfit attribute."
   ]
  },
  {
   "cell_type": "code",
   "execution_count": null,
   "id": "01d193cd",
   "metadata": {},
   "outputs": [],
   "source": [
    "creator.create(\"Swarm\", list, gbest=None, gbestfit=creator.FitnessMax)\n",
    "toolbox.register(\"particle\", initParticle, creator.Swarm, size=2,\n",
    "                 pmin=-6, pmax=6, smin=-3, smax=3)\n",
    "toolbox.register(\"swarm\", tools.initRepeat, creator.Swarm, toolbox.particle)\n"
   ]
  },
  {
   "cell_type": "markdown",
   "id": "c2a825f3",
   "metadata": {},
   "source": [
    "### Demes\n",
    "A deme is a sub-population contained within a larger population. It is similar to an island in the island model. Demes are not fundamentally different from populations, except for their names. We can create a population containing multiple demes, each having a different number of individuals, using the n argument of the tools.initRepeat() function."
   ]
  },
  {
   "cell_type": "code",
   "execution_count": null,
   "id": "cb602aac",
   "metadata": {
    "scrolled": true
   },
   "outputs": [],
   "source": [
    "toolbox.register(\"deme\", tools.initRepeat, list, toolbox.individual)\n",
    "\n",
    "DEME_SIZES = 10, 50, 100\n",
    "population"
   ]
  },
  {
   "cell_type": "markdown",
   "id": "57378d28",
   "metadata": {},
   "source": [
    "### Seeding a Population\n",
    "We can initialize a population with non-random individuals using the seeding population method."
   ]
  },
  {
   "cell_type": "code",
   "execution_count": null,
   "id": "925bd2d8",
   "metadata": {},
   "outputs": [],
   "source": [
    "# Import the required modules\n",
    "import json\n",
    "from deap import base, creator\n",
    "\n",
    "# Create the fitness and individual classes\n",
    "creator.create(\"FitnessMax\", base.Fitness, weights=(1.0, 1.0))\n",
    "creator.create(\"Individual\", list, fitness=creator.FitnessMax)\n",
    "\n",
    "# Define the initIndividual() function\n",
    "def initIndividual(icls, content):\n",
    "    return icls(content)\n",
    "\n",
    "# Define the initPopulation() function\n",
    "def initPopulation(pcls, ind_init, filename):\n",
    "    with open(filename, \"r\") as pop_file:\n",
    "        contents = json.load(pop_file)\n",
    "    return pcls(ind_init(c) for c in contents)\n",
    "\n",
    "# Create a toolbox instance\n",
    "toolbox = base.Toolbox()\n",
    "\n",
    "# Register the individual initializer and population initializer in the toolbox\n",
    "toolbox.register(\"individual_guess\", initIndividual, creator.Individual)\n",
    "toolbox.register(\"population_guess\", initPopulation, list, toolbox.individual_guess, \"my_guess.json\")\n",
    "\n",
    "# Generate the seeded population\n",
    "population = toolbox.population_guess()\n"
   ]
  },
  {
   "cell_type": "markdown",
   "id": "8ea55e9c",
   "metadata": {},
   "source": [
    "Here we demonstrate how to seed a population using a first guess population from a file. The initIndividual() function is used as the individual initializer, which takes a content as an argument. The initPopulation() function reads the contents from the file \"my_guess.json\" and creates a population using the individual initializer.\n",
    "\n",
    "To use this approach, make sure to have a file named \"my_guess.json\" that contains a list of individuals in the desired format. Then, by executing the code, the population will be initialized using the individuals from the file.\n",
    "\n",
    "Note that the initIndividual() function and the registration of individual_guess() in the toolbox are optional. If your individual class constructor (creator.Individual) already accepts the content directly, you can skip these steps and directly register the initPopulation() function with the appropriate arguments.\n",
    "\n"
   ]
  },
  {
   "cell_type": "markdown",
   "id": "16b5c1db",
   "metadata": {},
   "source": [
    "the contents of the \"my_guess.json\" file can be structured as follows:"
   ]
  },
  {
   "cell_type": "code",
   "execution_count": null,
   "id": "e5a95055",
   "metadata": {},
   "outputs": [],
   "source": [
    "[\n",
    "  [1, 2, 3, 4, 5],\n",
    "  [6, 7, 8, 9, 10],\n",
    "  [11, 12, 13, 14, 15]\n",
    "]"
   ]
  },
  {
   "cell_type": "markdown",
   "id": "db2ad733",
   "metadata": {},
   "source": [
    "\n",
    "In this example, the \"my_guess.json\" file contains a list of three individuals, where each individual is represented as a list of integers. You can customize the contents of the file based on your specific problem and the representation of the individuals.\n",
    "\n",
    "When you run the code and use the toolbox.population_guess() function, the population will be initialized with the individuals from the \"my_guess.json\" file.\n",
    "\n",
    "Make sure to save the \"my_guess.json\" file in the same directory as your Python script or Jupyter Notebook so that it can be read properly."
   ]
  },
  {
   "cell_type": "markdown",
   "id": "9fd8aab6",
   "metadata": {},
   "source": [
    "# Using Custom Types\n",
    "Once we have created the custom types, we can utilize them in our evolutionary algorithms. Here's an example of using the custom types:"
   ]
  },
  {
   "cell_type": "code",
   "execution_count": null,
   "id": "79a9b035",
   "metadata": {},
   "outputs": [],
   "source": [
    "# Initialize the toolbox\n",
    "toolbox = base.Toolbox()\n",
    "\n",
    "# Register attributes and operators with the toolbox\n",
    "toolbox.register(\"attr_bool\", random.randint, 0, 1)\n",
    "toolbox.register(\"individual\", tools.initRepeat, creator.Individual, toolbox.attr_bool, n=10)\n",
    "toolbox.register(\"population\", tools.initRepeat, list, toolbox.individual)\n",
    "\n",
    "# Example usage\n",
    "population = toolbox.population(n=50)\n",
    "individual = toolbox.individual()\n",
    "fitness = creator.FitnessMax()\n"
   ]
  },
  {
   "cell_type": "markdown",
   "id": "3932eaf3",
   "metadata": {},
   "source": [
    "In the above code, we initialize a Toolbox object that serves as a container for various attributes, operators, and algorithms. We register the custom types and their associated functions with the toolbox using the register method. The register() method takes at least two arguments; an alias and a function assigned to this alias.\n",
    "\n",
    "We can then create individuals and populations using the registered functions. For example, we can initialize a population of 50 individuals using toolbox.population(n=50).\n",
    "\n",
    "We can also directly create an individual using the toolbox.individual() function, which creates an individual with 10 Boolean attributes.\n",
    "\n",
    "To create a fitness object of the custom type, we can simply instantiate it using creator.FitnessMax(). This fitness object can be assigned to an individual's fitness attribute."
   ]
  },
  {
   "cell_type": "code",
   "execution_count": null,
   "id": "329f7565",
   "metadata": {},
   "outputs": [],
   "source": []
  }
 ],
 "metadata": {
  "kernelspec": {
   "display_name": "Python 3 (ipykernel)",
   "language": "python",
   "name": "python3"
  },
  "language_info": {
   "codemirror_mode": {
    "name": "ipython",
    "version": 3
   },
   "file_extension": ".py",
   "mimetype": "text/x-python",
   "name": "python",
   "nbconvert_exporter": "python",
   "pygments_lexer": "ipython3",
   "version": "3.10.9"
  }
 },
 "nbformat": 4,
 "nbformat_minor": 5
}
