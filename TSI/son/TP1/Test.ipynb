{
 "cells": [
  {
   "cell_type": "markdown",
   "id": "571d19d7-4776-4ef5-b494-b3f6f7fa14a5",
   "metadata": {},
   "source": [
    "# Advanced Audio Processing, Part 1: Acoustics and Sound Localization"
   ]
  },
  {
   "cell_type": "markdown",
   "id": "65345640-7faf-4c3f-ae7d-7a1ca84c7763",
   "metadata": {},
   "source": [
    "This is a test notebook to check if your installation is working. Please execute the following cells and check if their are executing correctly. If not, please contact your teacher to try to debug your configuration before the first practical session."
   ]
  },
  {
   "cell_type": "code",
   "execution_count": 1,
   "id": "421d6571-6e49-4b0e-9f74-364592d9f3d6",
   "metadata": {},
   "outputs": [
    {
     "name": "stderr",
     "output_type": "stream",
     "text": [
      "c:\\Users\\hp\\anaconda3\\lib\\site-packages\\paramiko\\transport.py:219: CryptographyDeprecationWarning: Blowfish has been deprecated\n",
      "  \"class\": algorithms.Blowfish,\n"
     ]
    }
   ],
   "source": [
    "%matplotlib widget\n",
    "import matplotlib.pyplot as plt\n",
    "import numpy as np\n",
    "from client import array"
   ]
  },
  {
   "cell_type": "markdown",
   "id": "4023f96e-6e59-4068-933e-ecc7f6b2ee81",
   "metadata": {},
   "source": [
    "### When working with the acquisition system"
   ]
  },
  {
   "cell_type": "code",
   "execution_count": 2,
   "id": "b3e6a98a-c744-4ac3-919c-c9e539ad9bad",
   "metadata": {},
   "outputs": [
    {
     "data": {
      "application/vnd.jupyter.widget-view+json": {
       "model_id": "14a00fae73e346c599dd2f23160d5cad",
       "version_major": 2,
       "version_minor": 0
      },
      "text/plain": [
       "VBox(children=(HBox(children=(Text(value='10.3.141.1', continuous_update=False, description='Adresse IP:'), Te…"
      ]
     },
     "metadata": {},
     "output_type": "display_data"
    }
   ],
   "source": [
    "antenne=array('server')"
   ]
  },
  {
   "cell_type": "markdown",
   "id": "c35133e9-ff01-41c0-a87b-6eebc21909a1",
   "metadata": {},
   "source": [
    "### When working on recorded files"
   ]
  },
  {
   "cell_type": "code",
   "execution_count": 3,
   "id": "3b17b051-8baa-4345-8d11-cef5695979fe",
   "metadata": {},
   "outputs": [
    {
     "data": {
      "application/vnd.jupyter.widget-view+json": {
       "model_id": "101ae49d9009431bb5941efcf7f2b083",
       "version_major": 2,
       "version_minor": 0
      },
      "text/plain": [
       "VBox(children=(HBox(children=(FileChooser(path='C:\\Users\\hp\\Desktop\\M2 ISI\\TSI\\son\\TP1', filename='', title=''…"
      ]
     },
     "metadata": {},
     "output_type": "display_data"
    }
   ],
   "source": [
    "antenne=array('play')"
   ]
  },
  {
   "cell_type": "markdown",
   "id": "478e99f2-63f5-4475-9cc4-b245a57564a2",
   "metadata": {},
   "source": [
    "### Get parameters and read data"
   ]
  },
  {
   "cell_type": "code",
   "execution_count": 4,
   "id": "cc28ea3f-2c92-40a7-ae36-70c4f81e38cc",
   "metadata": {},
   "outputs": [
    {
     "ename": "AttributeError",
     "evalue": "'array' object has no attribute 'mu32'",
     "output_type": "error",
     "traceback": [
      "\u001b[1;31m---------------------------------------------------------------------------\u001b[0m",
      "\u001b[1;31mAttributeError\u001b[0m                            Traceback (most recent call last)",
      "\u001b[1;32mc:\\Users\\hp\\Desktop\\M2 ISI\\TSI\\son\\TP1\\Test.ipynb Cell 9\u001b[0m line \u001b[0;36m5\n\u001b[0;32m      <a href='vscode-notebook-cell:/c%3A/Users/hp/Desktop/M2%20ISI/TSI/son/TP1/Test.ipynb#X11sZmlsZQ%3D%3D?line=1'>2</a>\u001b[0m BLK \u001b[39m=\u001b[39m antenne\u001b[39m.\u001b[39mblocksize\n\u001b[0;32m      <a href='vscode-notebook-cell:/c%3A/Users/hp/Desktop/M2%20ISI/TSI/son/TP1/Test.ipynb#X11sZmlsZQ%3D%3D?line=3'>4</a>\u001b[0m \u001b[39m# Read one buffer\u001b[39;00m\n\u001b[1;32m----> <a href='vscode-notebook-cell:/c%3A/Users/hp/Desktop/M2%20ISI/TSI/son/TP1/Test.ipynb#X11sZmlsZQ%3D%3D?line=4'>5</a>\u001b[0m m \u001b[39m=\u001b[39m antenne\u001b[39m.\u001b[39;49mread()\n",
      "File \u001b[1;32mc:\\Users\\hp\\Desktop\\M2 ISI\\TSI\\son\\TP1\\client.py:550\u001b[0m, in \u001b[0;36marray.read\u001b[1;34m(self)\u001b[0m\n\u001b[0;32m    541\u001b[0m \u001b[39m\"\"\"Read current audio buffer. The buffer is also available in the .m attribute of the \u001b[39;00m\n\u001b[0;32m    542\u001b[0m \u001b[39m   array object.\u001b[39;00m\n\u001b[0;32m    543\u001b[0m \n\u001b[0;32m    544\u001b[0m \u001b[39mReturns:\u001b[39;00m\n\u001b[0;32m    545\u001b[0m \u001b[39m    np.array: current audio buffer of size nb_mic x blocksize\u001b[39;00m\n\u001b[0;32m    546\u001b[0m \u001b[39m\"\"\"\u001b[39;00m\n\u001b[0;32m    547\u001b[0m \u001b[39mtry\u001b[39;00m:\n\u001b[0;32m    548\u001b[0m     \u001b[39m# Read last buffer\u001b[39;00m\n\u001b[0;32m    549\u001b[0m     \u001b[39m#self.m = self.mu32.signal_q.get(block=True, timeout=2) * self.mu32.sensibility\u001b[39;00m\n\u001b[1;32m--> 550\u001b[0m     \u001b[39mself\u001b[39m\u001b[39m.\u001b[39mm \u001b[39m=\u001b[39m \u001b[39mself\u001b[39;49m\u001b[39m.\u001b[39;49mmu32\u001b[39m.\u001b[39msignal_q\u001b[39m.\u001b[39mget(timeout \u001b[39m=\u001b[39m \u001b[39m5\u001b[39m)\u001b[39m.\u001b[39mastype( np\u001b[39m.\u001b[39mfloat32 ) \u001b[39m*\u001b[39m \u001b[39mself\u001b[39m\u001b[39m.\u001b[39mmu32\u001b[39m.\u001b[39msensibility\n\u001b[0;32m    551\u001b[0m     \u001b[39m# Return array\u001b[39;00m\n\u001b[0;32m    552\u001b[0m     \u001b[39mreturn\u001b[39;00m \u001b[39mself\u001b[39m\u001b[39m.\u001b[39mm\n",
      "\u001b[1;31mAttributeError\u001b[0m: 'array' object has no attribute 'mu32'"
     ]
    }
   ],
   "source": [
    "Fs = antenne.fs\n",
    "BLK = antenne.blocksize\n",
    "\n",
    "# Read one buffer\n",
    "m = antenne.read()"
   ]
  }
 ],
 "metadata": {
  "kernelspec": {
   "display_name": "Python 3 (ipykernel)",
   "language": "python",
   "name": "python3"
  },
  "language_info": {
   "codemirror_mode": {
    "name": "ipython",
    "version": 3
   },
   "file_extension": ".py",
   "mimetype": "text/x-python",
   "name": "python",
   "nbconvert_exporter": "python",
   "pygments_lexer": "ipython3",
   "version": "3.10.9"
  }
 },
 "nbformat": 4,
 "nbformat_minor": 5
}
