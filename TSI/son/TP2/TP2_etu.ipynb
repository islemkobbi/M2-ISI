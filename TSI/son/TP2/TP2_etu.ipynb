{
 "cells": [
  {
   "cell_type": "markdown",
   "id": "4b8011dc",
   "metadata": {},
   "source": [
    "# Sound source localization with a microphones array : beamforming approaches"
   ]
  },
  {
   "cell_type": "markdown",
   "id": "bcd297b6",
   "metadata": {},
   "source": [
    "You have characterized and analyzed the sound propagation in the previous practical. We will now\n",
    "exploit theses properties to infer one sound source position w.r.t. a linear microphone array made\n",
    "of $N=8$ omnidirectional MEMS microphones. The system you will be using is the same as before;\n",
    "thus, most of the code you already wrote to acquire signals, plot them, etc. will remain the same.\n",
    "\n",
    "In all the following, the acquisition system will work with a sampling frequency $F_s = 20$kHz, and with a buffer of size $\\texttt{BLK} = 1024$."
   ]
  },
  {
   "cell_type": "code",
   "execution_count": null,
   "id": "dca40716",
   "metadata": {},
   "outputs": [],
   "source": [
    "%matplotlib widget\n",
    "import matplotlib.pyplot as plt\n",
    "import numpy as np\n",
    "from client import array\n",
    "import time"
   ]
  },
  {
   "cell_type": "code",
   "execution_count": null,
   "id": "3a07bd41",
   "metadata": {},
   "outputs": [],
   "source": [
    "# Use one or the other option ... not the two at the same time!\n",
    "antenne=array('server') # When performing real-time acquisition\n",
    "#antenne=array('play')   # When playing recorded files"
   ]
  },
  {
   "cell_type": "code",
   "execution_count": null,
   "id": "39867a9d",
   "metadata": {
    "scrolled": true
   },
   "outputs": [],
   "source": [
    "# Load acquisition and array parameters from the antenne variable, after launching acquisition or play\n",
    "Fs = antenne.fs\n",
    "BLK = antenne.blocksize\n",
    "N = len(antenne.mu32.mems)\n",
    "d = antenne.interspace"
   ]
  },
  {
   "cell_type": "markdown",
   "id": "ed17b406",
   "metadata": {},
   "source": [
    "### 1) To begin, start the acquisition of the audio system, and capture one audio buffer. Plot the resulting signals as a function of time."
   ]
  },
  {
   "cell_type": "code",
   "execution_count": null,
   "id": "4ea7c50c",
   "metadata": {},
   "outputs": [],
   "source": [
    "# Read an audio buffer\n",
    "m = antenne.read()\n",
    "\n",
    "# TE BE COMPLETED"
   ]
  },
  {
   "cell_type": "markdown",
   "id": "3211f8d1",
   "metadata": {},
   "source": [
    "## 2.1/ Coding the beamformer filters and analyzing their properties\n",
    "\n",
    "**These first questions have to be prepared before the practical session**"
   ]
  },
  {
   "cell_type": "markdown",
   "id": "b5e34b23",
   "metadata": {},
   "source": [
    "### 2) Write the position $z_n$ as a function of $n$ and interspace $d$. As a convention, the first microphone number is selected as $0$."
   ]
  },
  {
   "cell_type": "markdown",
   "id": "ddf086ef",
   "metadata": {},
   "source": [
    "One can write :\n",
    "$$z_n = .$$"
   ]
  },
  {
   "cell_type": "markdown",
   "id": "8c8b3e80",
   "metadata": {},
   "source": [
    "### 3) Propose a function `beam_filter` returning the filter frequency response for one microphone number `mic_nb`. "
   ]
  },
  {
   "cell_type": "code",
   "execution_count": null,
   "id": "499e638e",
   "metadata": {},
   "outputs": [],
   "source": [
    "def beam_filter(array, freq_vector, theta0=0, mic_nb: int = 0):\n",
    "    \"\"\"Compute the filter frequency response of a DSB beamformer for one microphone\n",
    "\n",
    "    Args:\n",
    "        array (array_server obj): array structure controlling the acquisition system.\n",
    "        freq_vector (np.array): frequency vector. \n",
    "        theta0 (int, optional): focusing angular direction (in degrees). Defaults to 0.\n",
    "        mic_id (int, optional): microphone id. Defaults to 0.\n",
    "\n",
    "    Returns:\n",
    "        np.array: the filter frequency response. Shape is (len(freq_vector),).\n",
    "    \"\"\"\n",
    "\n",
    "    N = len(antenne.mu32.mems)\n",
    "    d = antenne.interspace\n",
    "    # Microphone position x\n",
    "    z = # TO BE COMPLETED\n",
    "    # Filter's frequency response\n",
    "    return # TO BE COMPLETED"
   ]
  },
  {
   "cell_type": "markdown",
   "id": "acf67d28",
   "metadata": {},
   "source": [
    "### 4) Plot the two frequency responses obtained for two filters associated to two different microphone outputs when $\\theta_0=0^\\circ$ and for frequencies between $0$ and $5$kHz. Explain the effect of these filters on the signals."
   ]
  },
  {
   "cell_type": "code",
   "execution_count": null,
   "id": "3c6f2f88",
   "metadata": {},
   "outputs": [],
   "source": [
    "# TO BE COMPLETED"
   ]
  },
  {
   "cell_type": "markdown",
   "id": "29576c67",
   "metadata": {},
   "source": [
    "Some comments."
   ]
  },
  {
   "cell_type": "markdown",
   "id": "91445517",
   "metadata": {},
   "source": [
    "### 5) Compare again the filters obtained when $\\theta_0 = 90^\\circ$. Explain the differences."
   ]
  },
  {
   "cell_type": "code",
   "execution_count": 1,
   "id": "2d0c9b56",
   "metadata": {},
   "outputs": [],
   "source": [
    "# TO BE COMPLETED"
   ]
  },
  {
   "cell_type": "markdown",
   "id": "57115b94",
   "metadata": {},
   "source": [
    "Some comments"
   ]
  },
  {
   "cell_type": "markdown",
   "id": "34b70433",
   "metadata": {},
   "source": [
    "## 2.2/ Using the filters : coding of the beamforming\n",
    "Basically, the beamforming algorithm is the following :\n",
    "\n",
    "- (a) acquire an audio frame\n",
    "- (b) compute the corresponding FFT\n",
    "- (c) analyze the FFT to define which frequency(ies) you would like to localize\n",
    "- (d) restrict the FFT to the frequencies of interest\n",
    "- (e) for one given ✓ 0 , for the frequencies selected before, and for each microphone :\n",
    "  — compute the corresponding filters frequency responses with the beam_filter func-\n",
    "tion\n",
    "  — apply these filters to the microphone outputs\n",
    "- (f) compute the beamformer output associated to the angular polarization ✓ 0\n",
    "- (g) repeat all these last steps for each ✓ 0 you want to test\n",
    "- (h) finally, decide of the angular position of the source by detecting for which ✓ 0 the beam-\n",
    "former output is maximum."
   ]
  },
  {
   "cell_type": "markdown",
   "id": "754183f2",
   "metadata": {},
   "source": [
    "### 6) Step (a) and (b) : After acquiring an audio buffer, compute its FFT in an array $M_{fft}$. Plot the result of this analysis as a function of the frequency when emitting a pure sine tone with a frequency $F_0 = 1$kHz."
   ]
  },
  {
   "cell_type": "code",
   "execution_count": null,
   "id": "7d0447e3",
   "metadata": {},
   "outputs": [],
   "source": [
    "# TO BE COMPLETED"
   ]
  },
  {
   "cell_type": "markdown",
   "id": "6df4d804",
   "metadata": {},
   "source": [
    "Some comments"
   ]
  },
  {
   "cell_type": "markdown",
   "id": "ab0a8047",
   "metadata": {},
   "source": [
    "### 7) Step (c) and (d) : Among all the frequencies you obtained from the FFT, select the one corresponding to the source frequency. Give its exact value and index $k_0$ in the frequency array, and collect the corresponding FFT values of each microphone outputs in one vector $\\texttt{M}$ of length $N$."
   ]
  },
  {
   "cell_type": "code",
   "execution_count": null,
   "id": "0ed44d25",
   "metadata": {},
   "outputs": [],
   "source": [
    "# TO BE COMPLETED"
   ]
  },
  {
   "cell_type": "markdown",
   "id": "5e942933",
   "metadata": {},
   "source": [
    "Some comments"
   ]
  },
  {
   "cell_type": "markdown",
   "id": "3f287b4e",
   "metadata": {},
   "source": [
    "### 8) Step (e) : In a loop among all microphones, compute each filters for the position $\\theta_0$ and for the frequency value you obtained in the previous step. Apply then these filters to the array $\\texttt{M}$ defined before."
   ]
  },
  {
   "cell_type": "code",
   "execution_count": null,
   "id": "c702c530",
   "metadata": {},
   "outputs": [],
   "source": [
    "# TO BE COMPLETED"
   ]
  },
  {
   "cell_type": "markdown",
   "id": "9b62696f",
   "metadata": {},
   "source": [
    "### 9) Step (f): Combine then the filters outputs to form the beamformer output $Y_{\\theta_0}[k_0]$. *$Y_{\\theta_0}[k_0]$ is obviously a complex value which corresponds to the frequency contribution of the source to the $k_0^{\\text{th}}$ frequency component of the beamformer output when focalized in the direction $\\theta_0$.* Compute then the corresponding power $P(\\theta_0)$ at $k_0$ of the beamformer output."
   ]
  },
  {
   "cell_type": "code",
   "execution_count": null,
   "id": "6d3953f1",
   "metadata": {},
   "outputs": [],
   "source": [
    "# TO BE COMPLETED"
   ]
  },
  {
   "cell_type": "markdown",
   "id": "d7d76011",
   "metadata": {},
   "source": [
    "Some comments"
   ]
  },
  {
   "cell_type": "markdown",
   "id": "4d9a790d",
   "metadata": {},
   "source": [
    "### 10) For a direction $\\theta_0$ of your choice, compute $P(\\theta_0)$ for (i) a source emitting from a direction close to $\\theta_0$, or (ii) far from it. Compare the two values."
   ]
  },
  {
   "cell_type": "code",
   "execution_count": null,
   "id": "7f28119a",
   "metadata": {},
   "outputs": [],
   "source": [
    "# For theta0 = X°\n",
    "# TO BE COMPLETED"
   ]
  },
  {
   "cell_type": "code",
   "execution_count": null,
   "id": "8647672c",
   "metadata": {},
   "outputs": [],
   "source": [
    "# For theta0 = Y°\n",
    "# TO BE COMPLETED"
   ]
  },
  {
   "cell_type": "markdown",
   "id": "1cf94a45",
   "metadata": {},
   "source": [
    "Some comments"
   ]
  },
  {
   "cell_type": "markdown",
   "id": "4eb2723b",
   "metadata": {},
   "source": [
    "### 11) Step (g) : Repeat now the previous code in a loop for $\\theta_0$ values ranging from 0 to 180° .You should then obtain an array $\\texttt{P}$ where each value corresponds to the power of the beamformer output at $F_0$ for each angular polarization. Plot the array $\\texttt{P}$ as a function of the angle $\\theta_0$."
   ]
  },
  {
   "cell_type": "code",
   "execution_count": null,
   "id": "b5b0a8f1",
   "metadata": {},
   "outputs": [],
   "source": [
    "# TO BE COMPLETED"
   ]
  },
  {
   "cell_type": "markdown",
   "id": "e4bba31a",
   "metadata": {},
   "source": [
    "Some comments"
   ]
  },
  {
   "cell_type": "markdown",
   "id": "c6eafe9d",
   "metadata": {},
   "source": [
    "### 12) Step (h) : Find the $\\theta_0$ value corresponding to position of the maximum in $\\texttt{P}$ and compare it with the actual (but approximate) position of the sound source."
   ]
  },
  {
   "cell_type": "code",
   "execution_count": null,
   "id": "5e986775",
   "metadata": {},
   "outputs": [],
   "source": [
    "# TO BE COMPLETED"
   ]
  },
  {
   "cell_type": "markdown",
   "id": "742fc46e",
   "metadata": {},
   "source": [
    "Some comments."
   ]
  },
  {
   "cell_type": "markdown",
   "id": "158d8fc5",
   "metadata": {},
   "source": [
    "## 2.3/ Analyzing the beamformer performances\n",
    "\n",
    "From now on, you can use your own code written in Section 2.2, or use the provided beamformer function which exactly reproduces the beamformer algorithm. You might then add `from beamformer_etu import beamformer` in your Notebook before being able to use the beamformer function."
   ]
  },
  {
   "cell_type": "code",
   "execution_count": null,
   "id": "ea9563db",
   "metadata": {},
   "outputs": [],
   "source": [
    "from beamformer_etu import beamformer"
   ]
  },
  {
   "cell_type": "markdown",
   "id": "f887b8b8",
   "metadata": {},
   "source": [
    "### 13) Plot the energy maps you obtain when using source frequencies $F_0 = 400$Hz, $F_0 = 1$kHz, $F_0 = 2$kHz and $F_0 = 4$kHz emitting from a fixed arbitrary position. Comment and explain carefully the differences between these curves"
   ]
  },
  {
   "cell_type": "code",
   "execution_count": null,
   "id": "dbc34ace",
   "metadata": {},
   "outputs": [],
   "source": [
    "# TO BE COMPLETED"
   ]
  },
  {
   "cell_type": "markdown",
   "id": "731c6a90",
   "metadata": {},
   "source": [
    "Some comments"
   ]
  },
  {
   "cell_type": "markdown",
   "id": "eb60482c",
   "metadata": {},
   "source": [
    "### 14) For a frequency $F_0 = 1$kHz and a source moving aroud the array, plot the estimated position as a function of time. Comment the effectiveness of the approach and its limits."
   ]
  },
  {
   "cell_type": "code",
   "execution_count": null,
   "id": "83aa7a74",
   "metadata": {},
   "outputs": [],
   "source": [
    "# TO BE COMPLETED"
   ]
  },
  {
   "cell_type": "markdown",
   "id": "32c82afc",
   "metadata": {},
   "source": [
    "Some comments"
   ]
  }
 ],
 "metadata": {
  "kernelspec": {
   "display_name": "Python 3 (ipykernel)",
   "language": "python",
   "name": "python3"
  },
  "language_info": {
   "codemirror_mode": {
    "name": "ipython",
    "version": 3
   },
   "file_extension": ".py",
   "mimetype": "text/x-python",
   "name": "python",
   "nbconvert_exporter": "python",
   "pygments_lexer": "ipython3",
   "version": "3.12.0"
  },
  "varInspector": {
   "cols": {
    "lenName": 16,
    "lenType": 16,
    "lenVar": 40
   },
   "kernels_config": {
    "python": {
     "delete_cmd_postfix": "",
     "delete_cmd_prefix": "del ",
     "library": "var_list.py",
     "varRefreshCmd": "print(var_dic_list())"
    },
    "r": {
     "delete_cmd_postfix": ") ",
     "delete_cmd_prefix": "rm(",
     "library": "var_list.r",
     "varRefreshCmd": "cat(var_dic_list()) "
    }
   },
   "position": {
    "height": "360.85px",
    "left": "1755px",
    "right": "20px",
    "top": "120px",
    "width": "333px"
   },
   "types_to_exclude": [
    "module",
    "function",
    "builtin_function_or_method",
    "instance",
    "_Feature"
   ],
   "window_display": true
  }
 },
 "nbformat": 4,
 "nbformat_minor": 5
}
