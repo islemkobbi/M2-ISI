{
 "cells": [
  {
   "cell_type": "code",
   "execution_count": 6,
   "metadata": {},
   "outputs": [
    {
     "name": "stdout",
     "output_type": "stream",
     "text": [
      "^C\n"
     ]
    },
    {
     "name": "stdout",
     "output_type": "stream",
     "text": [
      "Initial model has \u001b[96m274442\u001b[00m parameters.\n",
      "Initial Accuracy of the model is \u001b[95m89.500%\u001b[00m\n",
      "---\n",
      "After folding model has \u001b[96m274442\u001b[00m parameters.\n",
      "Accuracy after folding of the model is \u001b[95m89.500%\u001b[00m\n"
     ]
    }
   ],
   "source": [
    "!python srclayer_folding.py "
   ]
  }
 ],
 "metadata": {
  "kernelspec": {
   "display_name": "base",
   "language": "python",
   "name": "python3"
  },
  "language_info": {
   "codemirror_mode": {
    "name": "ipython",
    "version": 3
   },
   "file_extension": ".py",
   "mimetype": "text/x-python",
   "name": "python",
   "nbconvert_exporter": "python",
   "pygments_lexer": "ipython3",
   "version": "3.10.9"
  }
 },
 "nbformat": 4,
 "nbformat_minor": 2
}
