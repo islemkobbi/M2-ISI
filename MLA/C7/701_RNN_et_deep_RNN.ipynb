{
 "cells": [
  {
   "cell_type": "markdown",
   "metadata": {},
   "source": [
    "<img src=\"https://upload.wikimedia.org/wikipedia/fr/8/81/Sciences_SU.png\" width=\"240\" height=\"240\" align=\"center\"/>\n"
   ]
  },
  {
   "cell_type": "markdown",
   "metadata": {},
   "source": [
    "# MLA 701. Du RNN au deep RNN [prédiction de séries temporelles]"
   ]
  },
  {
   "cell_type": "code",
   "execution_count": null,
   "metadata": {},
   "outputs": [],
   "source": [
    "# Dans ce notebook, nous allons nous intéresser à des tâches d'analyse prédictive de séries temporelles\n",
    "# Par exemple, pour prédire la météo de demain ou le cours de la bourse\n",
    "\n",
    "# Ce notebook vise à apprendre : \n",
    "# - L'organisation des données de séries temporelles numériques en batches\n",
    "# - La compréhension des architectures RNN et la capacité à réaliser le schéma d'un réseau RNN et d'en expliciter\n",
    "# les paramètres et les méta-paramètres\n",
    "# - La comparaison d'un RNN à la vanille avec un RNN profond\n"
   ]
  },
  {
   "cell_type": "code",
   "execution_count": null,
   "metadata": {},
   "outputs": [],
   "source": [
    "# On importe les librairies de base pour le calcul et l'affichage\n",
    "import numpy as np\n",
    "import math\n",
    "import matplotlib.pyplot as plt\n",
    "\n",
    "n_time  = 50      # longueur de la série temporelle\n",
    "n_batch = 1000    # nombre de batches\n",
    "# proportion des données dans les ensembles d'entrainement, validation, et test\n",
    "r_trn   = 0.8     \n",
    "r_val   = 0.1 \n",
    "r_tst   = 0.1\n",
    "# taille des ensembles\n",
    "n_trn = int(r_trn * n_batch)\n",
    "n_val = int(r_val * n_batch)\n",
    "n_tst = int(r_tst * n_batch)\n",
    "\n",
    "# Fonction pour créer nbatch séries temporelles de longueur n_time\n",
    "def create_time_serie(batch_size, n_time):\n",
    "    freq1, freq2, offsets1, offsets2 = np.random.rand(4, batch_size, 1)\n",
    "    time = np.linspace(0, 1, n_time)\n",
    "    serie = 0.5 * np.sin((time - offsets1) * (freq1 * 10 + 10))    # + sinus 1\n",
    "    serie += 0.4 * np.sin((time - offsets2) * (freq2 * 20 + 20))   # + sinus 2\n",
    "    serie += 0.1 * (np.random.rand(batch_size, n_time) - 0.5)      # + bruit aléatoire\n",
    "    return serie[..., np.newaxis].astype(np.float32)\n",
    "\n",
    "# On créée un jeu de séries temporelles\n",
    "serie = create_time_serie(n_batch, n_time + 1)\n",
    "\n",
    "# On crée les ensembles\n",
    "X_train, y_train = serie[:n_trn, :n_time], serie[:n_trn, -1]\n",
    "X_valid, y_valid = serie[n_trn:n_trn+n_val, :n_time], serie[n_trn:n_trn+n_val, -1]\n",
    "X_test, y_test   = serie[n_trn+n_val:, :n_time], serie[n_trn+n_val:, -1]\n",
    "\n",
    "# Question : à partir de l'organisation des données d'entrée/sortie, \n",
    "# quelle est la tâche que l'on cherche à résoudre? "
   ]
  },
  {
   "cell_type": "code",
   "execution_count": null,
   "metadata": {},
   "outputs": [],
   "source": [
    "# Pour répondre à cette question, on trace un batch de données \n",
    "i_batch = 100\n",
    "plt.plot(X_train[i_batch])\n",
    "plt.plot(X_train[i_batch], 'bo', fillstyle='none', markersize=8)\n",
    "plt.plot(n_time, y_train[i_batch], 'r+',  markersize=8)\n",
    "plt.xlabel(\"time [in samples]\")\n",
    "\n",
    "# Donc?"
   ]
  },
  {
   "cell_type": "code",
   "execution_count": null,
   "metadata": {},
   "outputs": [],
   "source": [
    "# On importe les librairies de TF pour l'apprentissage\n",
    "from tensorflow.keras.models import Sequential\n",
    "from tensorflow.keras.layers import SimpleRNN\n",
    "from tensorflow.keras.layers import Dense\n",
    "\n",
    "# On créé quelques paramètres d'entrée du réseau\n",
    "hid_dim    = 1\n",
    "n_epoch    = 20\n",
    "\n",
    "# On instancie le réseau\n",
    "RNN_model  = Sequential(name=\"RNN_model\")\n",
    "RNN_model.add(SimpleRNN(hid_dim, input_shape=[None, 1], stateful=False, return_sequences=False, name='RNN'))\n",
    "\n",
    "# Questions : \n",
    "# 1) Réaliser le schéma de ce réseau\n",
    "# Et Expliciter les méta-paramètres de ce réseau (y compris ceux utilisés par défaut)\n",
    "# 2) Que signifient les parmaètres : \"stateful=False\" et \"return_sequences=False\" ?\n",
    "# 3) Est-ce justifié dans ce cas? Expliquer.\n",
    "\n",
    "# On compile le réseau\n",
    "RNN_model.compile(loss='mse', optimizer='adam')\n",
    "\n",
    "# On visualise la structure du réseau\n",
    "RNN_model.summary()\n",
    "\n",
    "# On apprend le modèle\n",
    "history = RNN_model.fit(X_train, y_train, epochs=n_epoch,\n",
    "                    validation_data=(X_valid, y_valid))\n",
    "\n",
    "L_val = RNN_model.evaluate(X_valid, y_valid)\n",
    "\n",
    "print(\"\")\n",
    "print(\"La loss MSE sur le jeu de validation est de: {}\" .format(L_val))\n"
   ]
  },
  {
   "cell_type": "code",
   "execution_count": null,
   "metadata": {},
   "outputs": [],
   "source": [
    "# On prédit sur l'ensemble de test\n",
    "y_hat = RNN_model.predict(X_test)\n",
    "\n",
    "# On trace un résultat\n",
    "i_batch = 0\n",
    "plt.plot(X_test[i_batch])\n",
    "plt.plot(X_test[i_batch], 'bo', fillstyle='none', markersize=8)\n",
    "plt.plot(n_time, y_test[i_batch], 'g+',  markersize=8)\n",
    "plt.plot(n_time, y_hat[i_batch], 'ro',  fillstyle='none', markersize=8)\n",
    "plt.xlabel(\"time [in samples]\")\n",
    "\n",
    "# On évalue la loss sur l'ensemble de test\n",
    "L_tst = RNN_model.evaluate(X_test, y_test)\n",
    "\n",
    "print(\"\")\n",
    "print(\"La loss MSE sur l'ensemble de test est de: {}\" .format(L_tst))\n",
    "\n",
    "# Question : \n",
    "# 1) la prédiction (alt. la performance) est-elle satisfaisante? Justifier.\n",
    "# 2) proposer une solution pour améliorer la performance du réseau\n"
   ]
  },
  {
   "cell_type": "code",
   "execution_count": null,
   "metadata": {},
   "outputs": [],
   "source": [
    "# On recommence mais avec un réseau profond (3 couches RNN) et plus de neurones par couche\n",
    "# On créé quelques paramètres d'entrée du réseau\n",
    "hid_dim    = 10\n",
    "n_epoch    = 20\n",
    "\n",
    "# On instancie le réseau\n",
    "DRNN_model  = Sequential(name=\"DRNN_model\")\n",
    "DRNN_model.add(SimpleRNN(hid_dim, input_shape=[None, 1], return_sequences=True, name='RNN_layer1'))\n",
    "DRNN_model.add(SimpleRNN(hid_dim, return_sequences=True, name='RNN_layer2'))\n",
    "DRNN_model.add(SimpleRNN(1, return_sequences=False, name='RNN_layer3'))\n",
    "\n",
    "# Question : \n",
    "# Même questions que précédemment mais pour les 3 couches\n",
    "\n",
    "# On compile le réseau\n",
    "DRNN_model.compile(loss='mse', optimizer='adam')\n",
    "\n",
    "# On visualise la structure du réseau\n",
    "DRNN_model.summary()\n",
    "\n",
    "# On apprend le modèle\n",
    "history = DRNN_model.fit(X_train, y_train, epochs=n_epoch,\n",
    "                    validation_data=(X_valid, y_valid))\n",
    "\n",
    "L_val = DRNN_model.evaluate(X_valid, y_valid)\n",
    "\n",
    "print(\"\")\n",
    "print(\"La loss MSE sur le jeu de validation est de: {}\" .format(L_val))"
   ]
  },
  {
   "cell_type": "code",
   "execution_count": null,
   "metadata": {},
   "outputs": [],
   "source": [
    "# On prédit sur l'ensemble de test\n",
    "y_hat = DRNN_model.predict(X_test)\n",
    "\n",
    "# On trace un résultat\n",
    "i_batch = 0\n",
    "plt.plot(X_test[i_batch])\n",
    "plt.plot(X_test[i_batch], 'bo', fillstyle='none', markersize=8)\n",
    "plt.plot(n_time, y_test[i_batch], 'g+',  markersize=8)\n",
    "plt.plot(n_time, y_hat[i_batch], 'ro',  fillstyle='none', markersize=8)\n",
    "plt.xlabel(\"time [in samples]\")\n",
    "\n",
    "# On évalue la loss sur l'ensemble de test\n",
    "L_tst = DRNN_model.evaluate(X_test, y_test)\n",
    "\n",
    "print(\"\")\n",
    "print(\"La loss MSE sur l'ensemble de test est de: {}\" .format(L_tst))\n",
    "\n",
    "# Question : \n",
    "# 1) maintenant, la prédiction (alt. la performance) est-elle satisfaisante? Justifier."
   ]
  },
  {
   "cell_type": "code",
   "execution_count": null,
   "metadata": {},
   "outputs": [],
   "source": [
    "# Question : conclusions?"
   ]
  }
 ],
 "metadata": {
  "kernelspec": {
   "display_name": "Python 3",
   "language": "python",
   "name": "python3"
  },
  "language_info": {
   "codemirror_mode": {
    "name": "ipython",
    "version": 3
   },
   "file_extension": ".py",
   "mimetype": "text/x-python",
   "name": "python",
   "nbconvert_exporter": "python",
   "pygments_lexer": "ipython3",
   "version": "3.7.3"
  }
 },
 "nbformat": 4,
 "nbformat_minor": 2
}
