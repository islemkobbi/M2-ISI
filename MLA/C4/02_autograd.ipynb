{
 "cells": [
  {
   "cell_type": "markdown",
   "metadata": {},
   "source": [
    "## Exercice Autograd"
   ]
  },
  {
   "cell_type": "markdown",
   "metadata": {},
   "source": [
    "Reprenez l'exemple du calcul du gradient donné en cours (cours Réseaux de neurones multicouches, B. Gas) de la fonction suivante : \n",
    "\n",
    "$\\mathcal{L}(\\hat{y},y) = (\\sigma(W^TX+\\theta)-y)^2$\n",
    "\n",
    "Calculez 𝜕L⁄𝜕𝑋 et 𝜕L⁄𝜕𝑊 pour les valeurs de X et de W données en cours et vérifiez que vous obtenez les mêmes résultats"
   ]
  }
 ],
 "metadata": {
  "kernelspec": {
   "display_name": "Python 3",
   "language": "python",
   "name": "python3"
  },
  "language_info": {
   "codemirror_mode": {
    "name": "ipython",
    "version": 3
   },
   "file_extension": ".py",
   "mimetype": "text/x-python",
   "name": "python",
   "nbconvert_exporter": "python",
   "pygments_lexer": "ipython3",
   "version": "3.11.5"
  }
 },
 "nbformat": 4,
 "nbformat_minor": 4
}
