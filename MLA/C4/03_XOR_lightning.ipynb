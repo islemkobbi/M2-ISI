{
 "cells": [
  {
   "cell_type": "markdown",
   "metadata": {},
   "source": [
    "# Exemple 2 : la fonction XOR (persion Lightning)"
   ]
  },
  {
   "cell_type": "markdown",
   "metadata": {},
   "source": [
    "## 1. Importation des librairies"
   ]
  },
  {
   "cell_type": "code",
   "execution_count": 38,
   "metadata": {},
   "outputs": [],
   "source": [
    "import torch\n",
    "import torch.nn as nn\n",
    "import torch.optim as optim\n",
    "import numpy as np\n",
    "import matplotlib.pyplot as plt\n",
    "import pytorch_lightning as pl\n",
    "\n",
    "# On fixe la seed aléatoire pour la reproductibilité\n",
    "seed = 1\n",
    "torch.manual_seed(seed)\n",
    "np.random.seed(seed)\n"
   ]
  },
  {
   "cell_type": "markdown",
   "metadata": {},
   "source": [
    "## 2. Définition des données d'apprentissage"
   ]
  },
  {
   "cell_type": "code",
   "execution_count": 39,
   "metadata": {},
   "outputs": [],
   "source": [
    "# Définition des données d'apprentissage\n",
    "X = torch.tensor([[0, 0], [0, 1], [1, 0], [1, 1]], dtype=torch.float32)\n",
    "Y = torch.tensor([[0], [1], [1], [0]], dtype=torch.float32)"
   ]
  },
  {
   "cell_type": "markdown",
   "metadata": {},
   "source": [
    "## 3. Architecture du réseau "
   ]
  },
  {
   "cell_type": "markdown",
   "metadata": {},
   "source": [
    "Pour vous aider : https://lightning.ai/docs/pytorch/stable/"
   ]
  },
  {
   "cell_type": "code",
   "execution_count": 40,
   "metadata": {},
   "outputs": [],
   "source": [
    "\n",
    "\n",
    "class XORModel(pl.LightningModule):\n",
    "    def __init__(self):\n",
    "        super(XORModel, self).__init__()\n",
    "        self.hidden = nn.Linear(2, 2)\n",
    "        self.output = nn.Linear(2, 1)\n",
    "        self.sigmoid = nn.Sigmoid()\n",
    "\n",
    "    def forward(self, x):\n",
    "        x1 = self.hidden(x)\n",
    "        x2 = self.sigmoid(x1)\n",
    "        x3 = self.output(x2)\n",
    "        return self.sigmoid(x3)\n",
    "    \n",
    "    def training_step(self, batch):\n",
    "        x, y = batch\n",
    "        y_pred = self(x)\n",
    "        # On défini la fonction de coût utlisée\n",
    "        loss = nn.functional.mse_loss(y_pred, y)\n",
    "        self.log(\"train_loss\", loss)\n",
    "        return loss\n",
    "\n",
    "    def configure_optimizers(self):\n",
    "        optimizer = optim.SGD(self.parameters(), lr=0.01, momentum=0.9)\n",
    "        return optimizer\n",
    "\n",
    "# création d'une instance\n",
    "xor_model = XORModel()\n"
   ]
  },
  {
   "cell_type": "markdown",
   "metadata": {},
   "source": [
    "## 4. Apprentissage du réseau"
   ]
  },
  {
   "cell_type": "code",
   "execution_count": 41,
   "metadata": {},
   "outputs": [
    {
     "name": "stderr",
     "output_type": "stream",
     "text": [
      "GPU available: False, used: False\n",
      "TPU available: False, using: 0 TPU cores\n",
      "IPU available: False, using: 0 IPUs\n",
      "HPU available: False, using: 0 HPUs\n",
      "\n",
      "  | Name    | Type    | Params\n",
      "------------------------------------\n",
      "0 | hidden  | Linear  | 6     \n",
      "1 | output  | Linear  | 3     \n",
      "2 | sigmoid | Sigmoid | 0     \n",
      "------------------------------------\n",
      "9         Trainable params\n",
      "0         Non-trainable params\n",
      "9         Total params\n",
      "0.000     Total estimated model params size (MB)\n",
      "c:\\Users\\hp\\anaconda3\\lib\\site-packages\\pytorch_lightning\\trainer\\connectors\\data_connector.py:442: PossibleUserWarning: The dataloader, train_dataloader, does not have many workers which may be a bottleneck. Consider increasing the value of the `num_workers` argument` (try 12 which is the number of cpus on this machine) in the `DataLoader` init to improve performance.\n",
      "  rank_zero_warn(\n"
     ]
    },
    {
     "data": {
      "application/vnd.jupyter.widget-view+json": {
       "model_id": "c13070047fa84b50b88fa0e36ee73451",
       "version_major": 2,
       "version_minor": 0
      },
      "text/plain": [
       "Training: 0it [00:00, ?it/s]"
      ]
     },
     "metadata": {},
     "output_type": "display_data"
    },
    {
     "name": "stderr",
     "output_type": "stream",
     "text": [
      "`Trainer.fit` stopped: `max_epochs=50` reached.\n"
     ]
    }
   ],
   "source": [
    "# Création d'une instance de PyTorch Lightning Trainer\n",
    "trainer = pl.Trainer(max_epochs=50, log_every_n_steps=1)\n",
    "\n",
    "# Entraînement du modèle\n",
    "trainer.fit(\n",
    "    xor_model,\n",
    "    train_dataloaders=torch.utils.data.DataLoader(\n",
    "        torch.utils.data.TensorDataset(X, Y), batch_size=1, shuffle=True\n",
    "    ),\n",
    ")"
   ]
  },
  {
   "cell_type": "markdown",
   "metadata": {},
   "source": [
    "## 5. Visualisation des résultats"
   ]
  },
  {
   "cell_type": "code",
   "execution_count": 42,
   "metadata": {},
   "outputs": [
    {
     "data": {
      "image/png": "[encoded data removed]",
      "text/plain": [
       "<Figure size 500x500 with 1 Axes>"
      ]
     },
     "metadata": {},
     "output_type": "display_data"
    }
   ],
   "source": [
    "# Visualisation des résultats\n",
    "def plot_decision_boundary(model):\n",
    "    plt.figure(figsize=(5, 5))\n",
    "    for i in np.arange(-0.1, 1.1, 0.05):\n",
    "        for j in np.arange(-0.1, 1.1, 0.05):\n",
    "            input_data = torch.tensor([[i, j]], dtype=torch.float32)\n",
    "            output = model(input_data)\n",
    "            if output > 0.5:\n",
    "                plt.plot(i, j, \".r\")\n",
    "            else:\n",
    "                plt.plot(i, j, \".b\")\n",
    "\n",
    "    for i in range(Y.size(0)):\n",
    "        if Y[i] == 1:\n",
    "            plt.plot(X[i, 0], X[i, 1], \"ro\")\n",
    "        else:\n",
    "            plt.plot(X[i, 0], X[i, 1], \"bo\")\n",
    "\n",
    "    plt.show()\n",
    "\n",
    "\n",
    "plot_decision_boundary(xor_model)\n"
   ]
  },
  {
   "cell_type": "markdown",
   "metadata": {},
   "source": [
    "## 6. A faire"
   ]
  },
  {
   "cell_type": "markdown",
   "metadata": {},
   "source": [
    "- Compléter le programme afin d'apprendre la fonction xor\n",
    "- Modifier l'initialisation (valeur de la seed) et observer le résultat obtennu\n",
    "- Modifier les paramètres d'apprentissage (pas, momentum...) et observer le résultat"
   ]
  },
  {
   "cell_type": "markdown",
   "metadata": {},
   "source": []
  },
  {
   "cell_type": "code",
   "execution_count": 66,
   "metadata": {},
   "outputs": [
    {
     "name": "stdout",
     "output_type": "stream",
     "text": [
      "Epoch [10000/100000], Loss: 0.1047\n",
      "Epoch [20000/100000], Loss: 0.0037\n",
      "Epoch [30000/100000], Loss: 0.0016\n",
      "Epoch [40000/100000], Loss: 0.0010\n",
      "Epoch [50000/100000], Loss: 0.0007\n",
      "Epoch [60000/100000], Loss: 0.0006\n",
      "Epoch [70000/100000], Loss: 0.0005\n",
      "Epoch [80000/100000], Loss: 0.0004\n",
      "Epoch [90000/100000], Loss: 0.0003\n",
      "Epoch [100000/100000], Loss: 0.0003\n"
     ]
    }
   ],
   "source": [
    "# Define a simple neural network class\n",
    "class SimpleNN(nn.Module):\n",
    "    def __init__(self):\n",
    "        super(SimpleNN, self).__init__()\n",
    "        self.layer1 = nn.Linear(2,2)\n",
    "        self.relu = nn.ReLU()\n",
    "        self.layer2 = nn.Linear(2,1)\n",
    "        self.sigmoid = nn.Sigmoid()\n",
    "\n",
    "    def forward(self, x):\n",
    "        x = self.layer1(x)\n",
    "        x = self.sigmoid(x)\n",
    "        x = self.layer2(x)\n",
    "        x = self.sigmoid(x)\n",
    "        return x\n",
    "\n",
    "\n",
    "\n",
    "# Initialize the neural network\n",
    "model_2 = SimpleNN()\n",
    "\n",
    "# Define the loss function and optimizer\n",
    "criterion = nn.MSELoss()\n",
    "optimizer = optim.SGD(model_2.parameters(), lr=0.01, momentum=0.9)\n",
    "\n",
    "\n",
    "# Training loop\n",
    "num_epochs = 100000\n",
    "for epoch in range(num_epochs):\n",
    "    # Forward pass\n",
    "    optimizer.zero_grad()\n",
    "    outputs = model_2(X)\n",
    "    loss = criterion(outputs, Y)\n",
    "\n",
    "    # Backpropagation and optimization\n",
    "    loss.backward()\n",
    "    optimizer.step()\n",
    "\n",
    "    if (epoch + 1) % 10000 == 0:\n",
    "        print(f'Epoch [{epoch+1}/{num_epochs}], Loss: {loss.item():.4f}')\n",
    "\n",
    "    "
   ]
  },
  {
   "cell_type": "code",
   "execution_count": 67,
   "metadata": {},
   "outputs": [
    {
     "data": {
      "image/png": "[encoded data removed]",
      "text/plain": [
       "<Figure size 500x500 with 1 Axes>"
      ]
     },
     "metadata": {},
     "output_type": "display_data"
    }
   ],
   "source": [
    "# Visualisation des résultats\n",
    "def plot_decision_boundary(model):\n",
    "    plt.figure(figsize=(5, 5))\n",
    "    for i in np.arange(-0.1, 1.1, 0.05):\n",
    "        for j in np.arange(-0.1, 1.1, 0.05):\n",
    "            input_data = torch.tensor([[i, j]], dtype=torch.float32)\n",
    "            output = model(input_data)\n",
    "            if output > 0.5:\n",
    "                plt.plot(i, j, \".r\")\n",
    "            else:\n",
    "                plt.plot(i, j, \".b\")\n",
    "\n",
    "    for i in range(Y.size(0)):\n",
    "        if Y[i] == 1:\n",
    "            plt.plot(X[i, 0], X[i, 1], \"ro\")\n",
    "        else:\n",
    "            plt.plot(X[i, 0], X[i, 1], \"bo\")\n",
    "\n",
    "    plt.show()\n",
    "\n",
    "\n",
    "plot_decision_boundary(model_2)"
   ]
  },
  {
   "cell_type": "code",
   "execution_count": null,
   "metadata": {},
   "outputs": [],
   "source": []
  }
 ],
 "metadata": {
  "kernelspec": {
   "display_name": "Python 3 (ipykernel)",
   "language": "python",
   "name": "python3"
  },
  "language_info": {
   "codemirror_mode": {
    "name": "ipython",
    "version": 3
   },
   "file_extension": ".py",
   "mimetype": "text/x-python",
   "name": "python",
   "nbconvert_exporter": "python",
   "pygments_lexer": "ipython3",
   "version": "3.10.9"
  }
 },
 "nbformat": 4,
 "nbformat_minor": 4
}
