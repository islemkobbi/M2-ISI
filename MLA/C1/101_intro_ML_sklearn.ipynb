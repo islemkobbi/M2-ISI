{
 "cells": [
  {
   "cell_type": "markdown",
   "metadata": {},
   "source": [
    "# 101. Mon premier classifier (en SK-LEARN)"
   ]
  },
  {
   "cell_type": "markdown",
   "metadata": {},
   "source": [
    "## 1. Importation des librairies"
   ]
  },
  {
   "cell_type": "code",
   "execution_count": 1,
   "metadata": {},
   "outputs": [],
   "source": [
    "# SEULEMENT AVEC SCIKIT-LEARN\n",
    "# On importe les modules nécessaires\n",
    "\n",
    "# Le module de datasets de sklearn\n",
    "from sklearn import datasets\n",
    "\n",
    "# Les modules habituels\n",
    "import numpy as np\n",
    "import matplotlib.pyplot as plt\n",
    "\n",
    "# On désactive les warnings\n",
    "import warnings\n",
    "warnings.filterwarnings('ignore')\n"
   ]
  },
  {
   "cell_type": "markdown",
   "metadata": {},
   "source": [
    "## 2. Chargement et formatage des données"
   ]
  },
  {
   "cell_type": "code",
   "execution_count": 2,
   "metadata": {},
   "outputs": [
    {
     "name": "stdout",
     "output_type": "stream",
     "text": [
      "Dimension des labels:\n",
      " (1797,) \n",
      "\n",
      "Dimension des data:\n",
      " (1797, 64) \n",
      "\n",
      "Dimension des images:\n",
      " (1797, 8, 8) \n",
      "\n"
     ]
    }
   ],
   "source": [
    "# On charge les données de DIGITS (incluses dans SK-LEARN)\n",
    "digits = datasets.load_digits()\n",
    "\n",
    "label = digits.target\n",
    "data  = digits.data\n",
    "img   = digits.images\n",
    "\n",
    "# On inspecte les dimensions des données \n",
    "print('Dimension des labels:\\n', np.shape(label), '\\n')\n",
    "\n",
    "# On inspecte les dimensions des données \n",
    "print('Dimension des data:\\n', np.shape(data), '\\n')\n",
    "\n",
    "# On inspecte les dimensions des données \n",
    "print('Dimension des images:\\n', np.shape(img), '\\n')\n"
   ]
  },
  {
   "cell_type": "code",
   "execution_count": null,
   "metadata": {},
   "outputs": [],
   "source": [
    "# On trace une image\n",
    "plt.imshow(img[0])\n",
    "\n",
    "# On vérifie le label correspondant\n",
    "print('Label de l image:\\n', label[0], '\\n')"
   ]
  },
  {
   "cell_type": "code",
   "execution_count": null,
   "metadata": {},
   "outputs": [],
   "source": [
    "# On trace le vecteur de donnée correspondant\n",
    "\n",
    "# On formate data data[0,] pour que la dimension 2 soit non-nulle (pour matplot)\n",
    "X = np.reshape(data[0,], (1, len(data[0,])))\n",
    "\n",
    "# On visualise (en changeant un peu l'échelle)\n",
    "plt.rcParams[\"figure.figsize\"] = (20,10)\n",
    "plt.imshow(X)\n",
    "plt.rcParams[\"figure.figsize\"] =(6., 4.)"
   ]
  },
  {
   "cell_type": "code",
   "execution_count": null,
   "metadata": {},
   "outputs": [],
   "source": [
    "# On créé un jeu de données pour l'entrainement et un jeu de données pour le test\n",
    "data_train = data[0:1000,]\n",
    "lbl_train = label[0:1000,] \n",
    "\n",
    "data_test = data[1001:,]\n",
    "lbl_test = label[1001:,] "
   ]
  },
  {
   "cell_type": "markdown",
   "metadata": {},
   "source": [
    "## 3. Création du classifier "
   ]
  },
  {
   "cell_type": "code",
   "execution_count": null,
   "metadata": {},
   "outputs": [],
   "source": [
    "# On importe le module SVM (ou autre classifieur)\n",
    "from sklearn import svm\n",
    "\n",
    "# On instancie le classifieur\n",
    "clf = svm.SVC()"
   ]
  },
  {
   "cell_type": "markdown",
   "metadata": {},
   "source": [
    "## 4. Apprentissage du classifier"
   ]
  },
  {
   "cell_type": "code",
   "execution_count": null,
   "metadata": {},
   "outputs": [],
   "source": [
    "# On apprend le classifier sur les données\n",
    "clf.fit(data_train, lbl_train)  "
   ]
  },
  {
   "cell_type": "markdown",
   "metadata": {},
   "source": [
    "## 5. Prédiction par le réseau"
   ]
  },
  {
   "cell_type": "code",
   "execution_count": null,
   "metadata": {},
   "outputs": [],
   "source": [
    "# On importe le module accuracy_score\n",
    "from sklearn.metrics import accuracy_score \n",
    "from sklearn.metrics import confusion_matrix\n",
    "\n",
    "# On prédit les labels à partir des donnnées\n",
    "lbl_pred = clf.predict(data_train)\n",
    "\n",
    "# On calcule la matrice de confusion\n",
    "cm_train = confusion_matrix(lbl_train, lbl_pred)\n",
    "print('La matrice de confusion sur le jeu d entrainement :\\n', cm_train, '\\n')\n",
    "\n",
    "# On calcul le score d accuracy\n",
    "acc_train=accuracy_score(lbl_train, lbl_pred)\n",
    "print('L accuracy sur le jeu d entrainement est :\\n', acc_train)\n"
   ]
  },
  {
   "cell_type": "code",
   "execution_count": null,
   "metadata": {},
   "outputs": [],
   "source": [
    "# Même chose mais sur le jeu de test\n",
    "\n",
    "# On prédit les labels à partir des donnnées\n",
    "lbl_pred = clf.predict(data_test)\n",
    "\n",
    "# On calcule la matrice de confusion\n",
    "cm_test = confusion_matrix(lbl_test, lbl_pred)\n",
    "print('La matrice de confusion sur le jeu d entrainement :\\n', cm_test, '\\n')\n",
    "\n",
    "# On calcul le score d accuracy\n",
    "acc_test=accuracy_score(lbl_test, lbl_pred)\n",
    "print('L accuracy sur le jeu d entrainement est :\\n', acc_test, '\\n')\n"
   ]
  },
  {
   "cell_type": "markdown",
   "metadata": {},
   "source": [
    "### Question\n",
    "\n",
    "Q1 Quel phénomène observe-t-on? Pourquoi?  \n",
    "Q2 Que faudrait-il faire pour éviter ce phénomène? "
   ]
  },
  {
   "cell_type": "code",
   "execution_count": null,
   "metadata": {},
   "outputs": [],
   "source": []
  }
 ],
 "metadata": {
  "kernelspec": {
   "display_name": "Python 3",
   "language": "python",
   "name": "python3"
  },
  "language_info": {
   "codemirror_mode": {
    "name": "ipython",
    "version": 3
   },
   "file_extension": ".py",
   "mimetype": "text/x-python",
   "name": "python",
   "nbconvert_exporter": "python",
   "pygments_lexer": "ipython3",
   "version": "3.7.3"
  }
 },
 "nbformat": 4,
 "nbformat_minor": 2
}
