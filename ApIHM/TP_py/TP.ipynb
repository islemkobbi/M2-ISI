{
 "cells": [
  {
   "cell_type": "code",
   "execution_count": 4,
   "metadata": {},
   "outputs": [],
   "source": [
    "import pandas as pd \n",
    "import numpy as np\n",
    "import os\n",
    "\n",
    "import sklearn"
   ]
  },
  {
   "cell_type": "code",
   "execution_count": 74,
   "metadata": {},
   "outputs": [
    {
     "name": "stdout",
     "output_type": "stream",
     "text": [
      "cy0001at.en\n",
      "cy0001at.f0\n"
     ]
    },
    {
     "ename": "ValueError",
     "evalue": "Must have equal len keys and value when setting with an iterable",
     "output_type": "error",
     "traceback": [
      "\u001b[1;31m---------------------------------------------------------------------------\u001b[0m",
      "\u001b[1;31mValueError\u001b[0m                                Traceback (most recent call last)",
      "\u001b[1;32mc:\\Users\\hp\\Desktop\\M2 ISI\\ApIHM\\TP_py\\TP.ipynb Cell 2\u001b[0m line \u001b[0;36m3\n\u001b[0;32m     <a href='vscode-notebook-cell:/c%3A/Users/hp/Desktop/M2%20ISI/ApIHM/TP_py/TP.ipynb#W1sZmlsZQ%3D%3D?line=32'>33</a>\u001b[0m     data_set\u001b[39m.\u001b[39mloc[data_set[\u001b[39m'\u001b[39m\u001b[39mnbr\u001b[39m\u001b[39m'\u001b[39m] \u001b[39m==\u001b[39m nbr, \u001b[39m'\u001b[39m\u001b[39men\u001b[39m\u001b[39m'\u001b[39m] \u001b[39m=\u001b[39m data\n\u001b[0;32m     <a href='vscode-notebook-cell:/c%3A/Users/hp/Desktop/M2%20ISI/ApIHM/TP_py/TP.ipynb#W1sZmlsZQ%3D%3D?line=33'>34</a>\u001b[0m \u001b[39melse\u001b[39;00m :\n\u001b[1;32m---> <a href='vscode-notebook-cell:/c%3A/Users/hp/Desktop/M2%20ISI/ApIHM/TP_py/TP.ipynb#W1sZmlsZQ%3D%3D?line=34'>35</a>\u001b[0m     data_set\u001b[39m.\u001b[39mloc[data_set[\u001b[39m'\u001b[39m\u001b[39mnbr\u001b[39m\u001b[39m'\u001b[39m] \u001b[39m==\u001b[39m nbr, \u001b[39m'\u001b[39m\u001b[39mf0\u001b[39m\u001b[39m'\u001b[39m] \u001b[39m=\u001b[39m data\n",
      "File \u001b[1;32mc:\\Users\\hp\\anaconda3\\lib\\site-packages\\pandas\\core\\indexing.py:818\u001b[0m, in \u001b[0;36m_LocationIndexer.__setitem__\u001b[1;34m(self, key, value)\u001b[0m\n\u001b[0;32m    815\u001b[0m \u001b[39mself\u001b[39m\u001b[39m.\u001b[39m_has_valid_setitem_indexer(key)\n\u001b[0;32m    817\u001b[0m iloc \u001b[39m=\u001b[39m \u001b[39mself\u001b[39m \u001b[39mif\u001b[39;00m \u001b[39mself\u001b[39m\u001b[39m.\u001b[39mname \u001b[39m==\u001b[39m \u001b[39m\"\u001b[39m\u001b[39miloc\u001b[39m\u001b[39m\"\u001b[39m \u001b[39melse\u001b[39;00m \u001b[39mself\u001b[39m\u001b[39m.\u001b[39mobj\u001b[39m.\u001b[39miloc\n\u001b[1;32m--> 818\u001b[0m iloc\u001b[39m.\u001b[39;49m_setitem_with_indexer(indexer, value, \u001b[39mself\u001b[39;49m\u001b[39m.\u001b[39;49mname)\n",
      "File \u001b[1;32mc:\\Users\\hp\\anaconda3\\lib\\site-packages\\pandas\\core\\indexing.py:1795\u001b[0m, in \u001b[0;36m_iLocIndexer._setitem_with_indexer\u001b[1;34m(self, indexer, value, name)\u001b[0m\n\u001b[0;32m   1792\u001b[0m \u001b[39m# align and set the values\u001b[39;00m\n\u001b[0;32m   1793\u001b[0m \u001b[39mif\u001b[39;00m take_split_path:\n\u001b[0;32m   1794\u001b[0m     \u001b[39m# We have to operate column-wise\u001b[39;00m\n\u001b[1;32m-> 1795\u001b[0m     \u001b[39mself\u001b[39;49m\u001b[39m.\u001b[39;49m_setitem_with_indexer_split_path(indexer, value, name)\n\u001b[0;32m   1796\u001b[0m \u001b[39melse\u001b[39;00m:\n\u001b[0;32m   1797\u001b[0m     \u001b[39mself\u001b[39m\u001b[39m.\u001b[39m_setitem_single_block(indexer, value, name)\n",
      "File \u001b[1;32mc:\\Users\\hp\\anaconda3\\lib\\site-packages\\pandas\\core\\indexing.py:1850\u001b[0m, in \u001b[0;36m_iLocIndexer._setitem_with_indexer_split_path\u001b[1;34m(self, indexer, value, name)\u001b[0m\n\u001b[0;32m   1845\u001b[0m     \u001b[39mif\u001b[39;00m \u001b[39mlen\u001b[39m(value) \u001b[39m==\u001b[39m \u001b[39m1\u001b[39m \u001b[39mand\u001b[39;00m \u001b[39mnot\u001b[39;00m is_integer(info_axis):\n\u001b[0;32m   1846\u001b[0m         \u001b[39m# This is a case like df.iloc[:3, [1]] = [0]\u001b[39;00m\n\u001b[0;32m   1847\u001b[0m         \u001b[39m#  where we treat as df.iloc[:3, 1] = 0\u001b[39;00m\n\u001b[0;32m   1848\u001b[0m         \u001b[39mreturn\u001b[39;00m \u001b[39mself\u001b[39m\u001b[39m.\u001b[39m_setitem_with_indexer((pi, info_axis[\u001b[39m0\u001b[39m]), value[\u001b[39m0\u001b[39m])\n\u001b[1;32m-> 1850\u001b[0m     \u001b[39mraise\u001b[39;00m \u001b[39mValueError\u001b[39;00m(\n\u001b[0;32m   1851\u001b[0m         \u001b[39m\"\u001b[39m\u001b[39mMust have equal len keys and value \u001b[39m\u001b[39m\"\u001b[39m\n\u001b[0;32m   1852\u001b[0m         \u001b[39m\"\u001b[39m\u001b[39mwhen setting with an iterable\u001b[39m\u001b[39m\"\u001b[39m\n\u001b[0;32m   1853\u001b[0m     )\n\u001b[0;32m   1855\u001b[0m \u001b[39melif\u001b[39;00m lplane_indexer \u001b[39m==\u001b[39m \u001b[39m0\u001b[39m \u001b[39mand\u001b[39;00m \u001b[39mlen\u001b[39m(value) \u001b[39m==\u001b[39m \u001b[39mlen\u001b[39m(\u001b[39mself\u001b[39m\u001b[39m.\u001b[39mobj\u001b[39m.\u001b[39mindex):\n\u001b[0;32m   1856\u001b[0m     \u001b[39m# We get here in one case via .loc with a all-False mask\u001b[39;00m\n\u001b[0;32m   1857\u001b[0m     \u001b[39mpass\u001b[39;00m\n",
      "\u001b[1;31mValueError\u001b[0m: Must have equal len keys and value when setting with an iterable"
     ]
    }
   ],
   "source": [
    "# Define the directory path where the files are located\n",
    "directory_path = 'Kismet_data_intent'\n",
    "\n",
    "# Create an empty list to store the dataframes\n",
    "data_set = pd.DataFrame(columns=['speaker', 'nbr', 'classe', 'time', 'f0', 'en'])\n",
    "\n",
    "# Loop through each file in the directory\n",
    "for filename in os.listdir(directory_path):\n",
    "\n",
    "    speaker = filename[0:2]\n",
    "    nbr = filename[2:6]\n",
    "    classe = filename[6:8]\n",
    "    \n",
    "    # Read the .f0 file into a dataframe\n",
    "    data = np.genfromtxt('Kismet_data_intent/cy0001at.en', delimiter=' ')\n",
    "    time = data[:,0]\n",
    "    data = data[:,1]\n",
    "    \n",
    "    print(filename)\n",
    "\n",
    "    if not np.any(data_set['nbr'].isin([nbr])) :\n",
    "\n",
    "        if filename.endswith('.en'):\n",
    "            # Read the .en file into a dataframe\n",
    "            data_set.loc[data_set.index.max() + 1] = [speaker, nbr, classe, time, np.nan, data] \n",
    "        else :\n",
    "            data_set.loc[data_set.index.max() + 1] = [speaker, nbr, classe, time, data, np.nan]\n",
    "\n",
    "    else :\n",
    "\n",
    "        if filename.endswith('.en'):\n",
    "            # Read the .en file into a dataframe\n",
    "            data_set.loc[data_set['nbr'] == nbr, 'en'] = data\n",
    "        else :\n",
    "            data_set.loc[data_set['nbr'] == nbr, 'f0'] = data\n",
    "\n",
    "\n",
    "\n",
    "# and not np.any(data_set['nbr'].isin(nbr))"
   ]
  }
 ],
 "metadata": {
  "kernelspec": {
   "display_name": "base",
   "language": "python",
   "name": "python3"
  },
  "language_info": {
   "codemirror_mode": {
    "name": "ipython",
    "version": 3
   },
   "file_extension": ".py",
   "mimetype": "text/x-python",
   "name": "python",
   "nbconvert_exporter": "python",
   "pygments_lexer": "ipython3",
   "version": "3.10.9"
  },
  "orig_nbformat": 4
 },
 "nbformat": 4,
 "nbformat_minor": 2
}
