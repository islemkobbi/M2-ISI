{
 "cells": [
  {
   "cell_type": "markdown",
   "metadata": {},
   "source": [
    "### Importing Dependencies "
   ]
  },
  {
   "cell_type": "code",
   "execution_count": 1,
   "metadata": {},
   "outputs": [
    {
     "name": "stdout",
     "output_type": "stream",
     "text": [
      "WARNING:tensorflow:From c:\\Users\\kobbi\\anaconda3\\Lib\\site-packages\\keras\\src\\losses.py:2976: The name tf.losses.sparse_softmax_cross_entropy is deprecated. Please use tf.compat.v1.losses.sparse_softmax_cross_entropy instead.\n",
      "\n"
     ]
    }
   ],
   "source": [
    "import numpy as np\n",
    "import gymnasium as gym\n",
    "from imitation.policies.serialize import load_policy\n",
    "from imitation.util.util import make_vec_env\n",
    "from imitation.data.wrappers import RolloutInfoWrapper\n",
    "from imitation.data import rollout\n",
    "import matplotlib.pyplot as plt\n",
    "import random\n",
    "import copy\n",
    "\n",
    "from stable_baselines3.common.evaluation import evaluate_policy\n",
    "\n",
    "# for Behaoivior cloning \n",
    "from imitation.algorithms import bc"
   ]
  },
  {
   "cell_type": "markdown",
   "metadata": {},
   "source": [
    "### Creating the Environment "
   ]
  },
  {
   "cell_type": "code",
   "execution_count": 2,
   "metadata": {},
   "outputs": [],
   "source": [
    "env = make_vec_env(\n",
    "    \"seals:seals/CartPole-v0\",\n",
    "    rng=np.random.default_rng(),\n",
    "    post_wrappers=[\n",
    "        lambda env, _: RolloutInfoWrapper(env)\n",
    "    ],\n",
    ")"
   ]
  },
  {
   "cell_type": "markdown",
   "metadata": {},
   "source": [
    "### Creating the Expert "
   ]
  },
  {
   "cell_type": "code",
   "execution_count": 3,
   "metadata": {},
   "outputs": [
    {
     "name": "stderr",
     "output_type": "stream",
     "text": [
      "c:\\Users\\kobbi\\anaconda3\\Lib\\site-packages\\stable_baselines3\\common\\save_util.py:166: UserWarning: Could not deserialize object learning_rate. Consider using `custom_objects` argument to replace this object.\n",
      "Exception: code() argument 13 must be str, not int\n",
      "  warnings.warn(\n",
      "c:\\Users\\kobbi\\anaconda3\\Lib\\site-packages\\stable_baselines3\\common\\save_util.py:166: UserWarning: Could not deserialize object clip_range. Consider using `custom_objects` argument to replace this object.\n",
      "Exception: code() argument 13 must be str, not int\n",
      "  warnings.warn(\n",
      "c:\\Users\\kobbi\\anaconda3\\Lib\\site-packages\\stable_baselines3\\common\\save_util.py:166: UserWarning: Could not deserialize object lr_schedule. Consider using `custom_objects` argument to replace this object.\n",
      "Exception: code() argument 13 must be str, not int\n",
      "  warnings.warn(\n"
     ]
    }
   ],
   "source": [
    "expert = load_policy(\n",
    "    \"ppo-huggingface\",\n",
    "    organization=\"HumanCompatibleAI\",\n",
    "    env_name=\"seals/CartPole-v0\",\n",
    "    venv=env,\n",
    ")"
   ]
  },
  {
   "cell_type": "markdown",
   "metadata": {},
   "source": [
    "### Generating data for the training ( the transactions )"
   ]
  },
  {
   "cell_type": "code",
   "execution_count": 4,
   "metadata": {},
   "outputs": [],
   "source": [
    "rng = np.random.default_rng() \n",
    "\n",
    "rollouts = rollout.rollout(\n",
    "    expert,\n",
    "    env,\n",
    "    rollout.make_sample_until(min_timesteps=None, min_episodes=50),\n",
    "    rng=rng,\n",
    ")"
   ]
  },
  {
   "cell_type": "code",
   "execution_count": 5,
   "metadata": {},
   "outputs": [],
   "source": [
    "def get_transitions(rollouts, n):\n",
    "    # n number of episodes used for the training  \n",
    "\n",
    "    transitions = rollout.flatten_trajectories(rollouts[:n])\n",
    "    return transitions"
   ]
  },
  {
   "cell_type": "markdown",
   "metadata": {},
   "source": [
    "### Generation the corrupted data"
   ]
  },
  {
   "cell_type": "code",
   "execution_count": 18,
   "metadata": {},
   "outputs": [],
   "source": [
    "def toggl_acts(rollouts, u):\n",
    "    l =  len(rollouts)\n",
    "    \n",
    "    for i in range(l) :\n",
    "        k = len(rollouts[i].acts)\n",
    "        nbr_of_act = int(k * u)\n",
    "        action_to_toggl = random.sample(range(k), nbr_of_act)\n",
    "        rollouts[i].acts[action_to_toggl] = 1 - rollouts[i].acts[action_to_toggl]"
   ]
  },
  {
   "cell_type": "code",
   "execution_count": 19,
   "metadata": {},
   "outputs": [],
   "source": [
    "rollouts_0 = copy.deepcopy(rollouts)\n",
    "rollouts_5 = copy.deepcopy(rollouts)\n",
    "rollouts_10 = copy.deepcopy(rollouts)\n",
    "rollouts_20 = copy.deepcopy(rollouts)\n",
    "rollouts_50 = copy.deepcopy(rollouts)\n",
    "\n",
    "toggl_acts(rollouts_5, 0.05)\n",
    "toggl_acts(rollouts_10, 0.1)\n",
    "toggl_acts(rollouts_20, 0.2)\n",
    "toggl_acts(rollouts_50, 0.5)"
   ]
  },
  {
   "cell_type": "code",
   "execution_count": 24,
   "metadata": {},
   "outputs": [
    {
     "data": {
      "text/plain": [
       "array([ 0,  1, -1,  0,  1,  0,  1, -1,  1,  1,  0, -1,  0, -1,  1,  1, -1,\n",
       "        0, -1,  0,  0,  1, -1,  0, -1,  1,  0,  0,  0,  0,  1,  0,  1,  0,\n",
       "        0,  0,  1, -1,  1,  0,  1, -1,  0,  0, -1,  0,  0,  1, -1,  1,  0,\n",
       "       -1, -1,  1,  0,  0,  1, -1,  0, -1,  0, -1,  1, -1,  0, -1,  1, -1,\n",
       "        1,  0,  0, -1,  1, -1,  1,  0,  0, -1,  1,  1,  0,  1,  0,  0,  0,\n",
       "        0,  1,  1,  0, -1,  0,  1,  1,  0,  0,  0,  0,  0,  0,  0,  1,  0,\n",
       "        0,  0,  0,  0,  0,  0,  1,  0,  0,  0,  0,  0,  0,  0,  0,  0, -1,\n",
       "        0, -1,  1, -1, -1,  1, -1,  0,  1,  0, -1,  0,  0, -1,  0,  1,  0,\n",
       "       -1,  0, -1,  0, -1,  1, -1,  1, -1,  1, -1,  0,  0, -1,  0,  0, -1,\n",
       "        1,  0,  0,  0,  1,  1, -1, -1,  0,  0,  0, -1,  0,  0,  1, -1,  0,\n",
       "        0,  1, -1,  0,  0,  0,  0,  0,  0,  0,  1, -1,  1,  0,  0,  1,  0,\n",
       "        0, -1,  1,  0,  1, -1,  1,  0,  1, -1,  1,  0,  0, -1,  1,  1, -1,\n",
       "        0,  0, -1,  0,  1, -1,  0, -1,  1, -1,  1, -1, -1,  0,  0,  0,  0,\n",
       "       -1,  0, -1,  0, -1,  1,  0,  0,  1,  0, -1,  0,  0, -1,  1,  1,  0,\n",
       "        1, -1,  1,  0,  0,  1, -1,  0,  0, -1,  0, -1,  0,  0, -1,  0, -1,\n",
       "        1,  0,  1,  1,  0,  0,  0,  0,  0,  1,  1,  0,  1, -1,  1,  0,  1,\n",
       "        0,  0,  0, -1,  1,  1,  0,  0,  0, -1,  1,  0,  1, -1, -1,  1,  0,\n",
       "        0, -1, -1,  1,  1,  0,  1,  0,  0,  0,  1,  1, -1,  0,  0,  0,  0,\n",
       "       -1,  1,  1,  0,  0,  0,  0,  0, -1,  1,  0,  1,  1, -1,  0,  1,  0,\n",
       "        0,  1, -1,  0, -1,  0, -1,  1, -1,  0,  0,  0,  1,  0,  0,  0,  0,\n",
       "       -1,  0,  0,  0,  0,  0, -1,  0,  1,  0,  1, -1,  0,  0, -1,  1,  0,\n",
       "        0, -1,  1,  0,  1, -1,  1, -1,  0,  0,  1, -1,  1,  0,  1,  0,  1,\n",
       "       -1,  0, -1,  0,  0, -1,  1,  0,  0,  0,  0,  1,  0,  1,  0,  0,  0,\n",
       "       -1,  1,  0,  1, -1,  0,  0,  0, -1,  0, -1,  0,  0,  0, -1,  1,  0,\n",
       "        0, -1,  1,  0,  0,  0, -1,  1,  0,  0,  0,  1,  0,  1,  0,  0,  0,\n",
       "        1,  0,  0,  1, -1,  0,  1,  1, -1, -1, -1,  0,  0,  0,  1,  0,  0,\n",
       "       -1,  1, -1, -1,  1,  0,  0,  1, -1,  0, -1,  0, -1,  0,  0,  0,  0,\n",
       "       -1,  0, -1,  1,  1, -1, -1, -1,  0,  0,  0, -1,  1,  0,  0,  1, -1,\n",
       "        0, -1,  0,  0,  1,  0,  0,  0,  0, -1, -1,  0,  1,  0,  1, -1,  0,\n",
       "        0, -1,  0,  1,  0,  1,  0], dtype=int64)"
      ]
     },
     "execution_count": 24,
     "metadata": {},
     "output_type": "execute_result"
    }
   ],
   "source": [
    "rollouts_50[-1].acts - rollouts_0[-1].acts"
   ]
  },
  {
   "cell_type": "markdown",
   "metadata": {},
   "source": [
    "### Defining the trainer (policy: ActorCriticPolicy)"
   ]
  },
  {
   "cell_type": "code",
   "execution_count": 21,
   "metadata": {},
   "outputs": [],
   "source": [
    "def create_trainer(env, transitions):\n",
    "    return bc.BC(\n",
    "        observation_space=env.observation_space,\n",
    "        action_space=env.action_space,\n",
    "        demonstrations=transitions,\n",
    "        rng=rng,\n",
    "        )"
   ]
  },
  {
   "cell_type": "code",
   "execution_count": 22,
   "metadata": {},
   "outputs": [],
   "source": [
    "bc_trainer = {0 : create_trainer(env, get_transitions(rollouts_0, -1)),\n",
    "              5 : create_trainer(env, get_transitions(rollouts_5, -1)),\n",
    "              10 : create_trainer(env, get_transitions(rollouts_10, -1)),\n",
    "              20 : create_trainer(env, get_transitions(rollouts_20, -1)),\n",
    "              50 : create_trainer(env, get_transitions(rollouts_50, -1))\n",
    "}\n",
    "              "
   ]
  },
  {
   "cell_type": "code",
   "execution_count": 23,
   "metadata": {},
   "outputs": [
    {
     "name": "stdout",
     "output_type": "stream",
     "text": [
      "---------------------------------\n",
      "| batch_size        | 32        |\n",
      "| bc/               |           |\n",
      "|    batch          | 0         |\n",
      "|    ent_loss       | -0.000693 |\n",
      "|    entropy        | 0.693     |\n",
      "|    epoch          | 0         |\n",
      "|    l2_loss        | 0         |\n",
      "|    l2_norm        | 72.5      |\n",
      "|    loss           | 0.692     |\n",
      "|    neglogp        | 0.693     |\n",
      "|    prob_true_act  | 0.5       |\n",
      "|    samples_so_far | 32        |\n",
      "---------------------------------\n"
     ]
    }
   ],
   "source": [
    "rewards = []\n",
    "\n",
    "bc_trainer[50].train( \n",
    "    n_epochs=10, \n",
    "    progress_bar= False, \n",
    "    on_epoch_end= lambda : rewards.append(evaluate_policy(bc_trainer[50].policy, env, 1)[0]),\n",
    "    log_interval=10000\n",
    "    )"
   ]
  },
  {
   "cell_type": "code",
   "execution_count": 25,
   "metadata": {},
   "outputs": [
    {
     "data": {
      "text/plain": [
       "[<matplotlib.lines.Line2D at 0x1a9ec836910>]"
      ]
     },
     "execution_count": 25,
     "metadata": {},
     "output_type": "execute_result"
    },
    {
     "data": {
      "image/png": "[encoded data removed]",
      "text/plain": [
       "<Figure size 640x480 with 1 Axes>"
      ]
     },
     "metadata": {},
     "output_type": "display_data"
    }
   ],
   "source": [
    "plt.plot(rewards)"
   ]
  },
  {
   "cell_type": "markdown",
   "metadata": {},
   "source": [
    "# DAgger"
   ]
  },
  {
   "cell_type": "code",
   "execution_count": 27,
   "metadata": {},
   "outputs": [],
   "source": [
    "import tempfile\n",
    "from dagger import DAggerTrainer"
   ]
  },
  {
   "cell_type": "code",
   "execution_count": 29,
   "metadata": {},
   "outputs": [
    {
     "name": "stdout",
     "output_type": "stream",
     "text": [
      "C:\\Users\\kobbi\\AppData\\Local\\Temp\\dagger_example_pocogifs\n"
     ]
    },
    {
     "ename": "AttributeError",
     "evalue": "'DAggerTrainer' object has no attribute 'train'",
     "output_type": "error",
     "traceback": [
      "\u001b[1;31m---------------------------------------------------------------------------\u001b[0m",
      "\u001b[1;31mAttributeError\u001b[0m                            Traceback (most recent call last)",
      "Cell \u001b[1;32mIn[29], line 10\u001b[0m\n\u001b[0;32m      2\u001b[0m \u001b[38;5;28mprint\u001b[39m(tmpdir)\n\u001b[0;32m      3\u001b[0m dagger_trainer \u001b[38;5;241m=\u001b[39m DAggerTrainer(\n\u001b[0;32m      4\u001b[0m     venv\u001b[38;5;241m=\u001b[39menv,\n\u001b[0;32m      5\u001b[0m     scratch_dir\u001b[38;5;241m=\u001b[39mtmpdir,\n\u001b[0;32m      6\u001b[0m     bc_trainer\u001b[38;5;241m=\u001b[39mbc_trainer[\u001b[38;5;241m0\u001b[39m],\n\u001b[0;32m      7\u001b[0m     rng\u001b[38;5;241m=\u001b[39mnp\u001b[38;5;241m.\u001b[39mrandom\u001b[38;5;241m.\u001b[39mdefault_rng(),\n\u001b[0;32m      8\u001b[0m )\n\u001b[1;32m---> 10\u001b[0m dagger_trainer\u001b[38;5;241m.\u001b[39mtrain(\u001b[38;5;241m2000\u001b[39m)\n",
      "\u001b[1;31mAttributeError\u001b[0m: 'DAggerTrainer' object has no attribute 'train'"
     ]
    }
   ],
   "source": [
    "with tempfile.TemporaryDirectory(prefix=\"dagger_example_\") as tmpdir:\n",
    "    print(tmpdir)\n",
    "    dagger_trainer = DAggerTrainer(\n",
    "        venv=env,\n",
    "        scratch_dir=tmpdir,\n",
    "        bc_trainer=bc_trainer[0],\n",
    "        rng=np.random.default_rng(),\n",
    "    )\n",
    "\n",
    "    dagger_trainer.train(2000)\n"
   ]
  }
 ],
 "metadata": {
  "kernelspec": {
   "display_name": "base",
   "language": "python",
   "name": "python3"
  },
  "language_info": {
   "codemirror_mode": {
    "name": "ipython",
    "version": 3
   },
   "file_extension": ".py",
   "mimetype": "text/x-python",
   "name": "python",
   "nbconvert_exporter": "python",
   "pygments_lexer": "ipython3",
   "version": "3.11.5"
  }
 },
 "nbformat": 4,
 "nbformat_minor": 2
}
