{
 "cells": [
  {
   "cell_type": "code",
   "execution_count": 6,
   "metadata": {},
   "outputs": [],
   "source": [
    "import collections"
   ]
  },
  {
   "cell_type": "code",
   "execution_count": 7,
   "metadata": {},
   "outputs": [
    {
     "name": "stdout",
     "output_type": "stream",
     "text": [
      "abz\n"
     ]
    }
   ],
   "source": [
    "s = \"aabbbz\"\n",
    "\n",
    "carc = \"\"\n",
    "for i in range(len(s)):\n",
    "    if s[i] not in carc :\n",
    "        carc += s[i]\n",
    "\n",
    "if len(s) % 2 == 0:\n",
    "    \n",
    "\n",
    "\n",
    "print(carc)"
   ]
  },
  {
   "cell_type": "code",
   "execution_count": 5,
   "metadata": {},
   "outputs": [
    {
     "name": "stdout",
     "output_type": "stream",
     "text": [
      "Character: a, Count: 3\n",
      "Character: b, Count: 3\n",
      "Character: c, Count: 3\n",
      "Character: d, Count: 4\n",
      "Character: e, Count: 5\n"
     ]
    }
   ],
   "source": [
    "def extract_uniq_caracters(s):\n",
    "    counter = collections.Counter(s)\n",
    "    for character, count in counter.items():\n",
    "        print(f\"Character: {character}, Count: {count}\")\n",
    "\n",
    "# Example usage:\n",
    "s = \"aaabbbcccddddeeeee\"\n",
    "extract_uniq_caracters(s)"
   ]
  }
 ],
 "metadata": {
  "kernelspec": {
   "display_name": "Python 3",
   "language": "python",
   "name": "python3"
  },
  "language_info": {
   "codemirror_mode": {
    "name": "ipython",
    "version": 3
   },
   "file_extension": ".py",
   "mimetype": "text/x-python",
   "name": "python",
   "nbconvert_exporter": "python",
   "pygments_lexer": "ipython3",
   "version": "3.10.9"
  }
 },
 "nbformat": 4,
 "nbformat_minor": 2
}
